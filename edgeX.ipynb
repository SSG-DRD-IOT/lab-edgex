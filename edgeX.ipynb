{
 "cells": [
  {
   "cell_type": "markdown",
   "metadata": {},
   "source": [
    "# Interactions with EdgeX Foundry Microservices"
   ]
  },
  {
   "cell_type": "markdown",
   "metadata": {},
   "source": [
    "In this notebook, we will explore the functionality of EdgeX Foundy. EdgeX Foundry is a microservice oriented architecture that enables programatic integration of IoT devices on an edge network. EdgeX is specifically build with industrial and business use-cases in mind."
   ]
  },
  {
   "cell_type": "markdown",
   "metadata": {},
   "source": [
    "## API Reference\n",
    "As we go through this lab, you will find it useful to refer to the API reference page.\n",
    "https://docs.edgexfoundry.org/Ch-APIReference.html"
   ]
  },
  {
   "cell_type": "markdown",
   "metadata": {},
   "source": [
    "## Loading the Requests Library"
   ]
  },
  {
   "cell_type": "code",
   "execution_count": 9,
   "metadata": {},
   "outputs": [],
   "source": [
    "# Import the Python HTTP Requests Library\n",
    "import requests"
   ]
  },
  {
   "cell_type": "markdown",
   "metadata": {},
   "source": [
    "After loading the library, we can make our first HTTP request to demonstrate how to use the Python3 Requests library"
   ]
  },
  {
   "cell_type": "code",
   "execution_count": 22,
   "metadata": {},
   "outputs": [],
   "source": [
    "r = requests.get('https://api.github.com/orgs/SSG-DRD-IOT/events')"
   ]
  },
  {
   "cell_type": "code",
   "execution_count": 23,
   "metadata": {},
   "outputs": [
    {
     "data": {
      "text/plain": [
       "<Response [200]>"
      ]
     },
     "execution_count": 23,
     "metadata": {},
     "output_type": "execute_result"
    }
   ],
   "source": [
    "# View the Python Response Object\n",
    "r"
   ]
  },
  {
   "cell_type": "code",
   "execution_count": 24,
   "metadata": {},
   "outputs": [
    {
     "data": {
      "text/plain": [
       "200"
      ]
     },
     "execution_count": 24,
     "metadata": {},
     "output_type": "execute_result"
    }
   ],
   "source": [
    "# Get the HTTP status code that was returned with the request\n",
    "r.status_code"
   ]
  },
  {
   "cell_type": "code",
   "execution_count": 25,
   "metadata": {},
   "outputs": [
    {
     "data": {
      "text/plain": [
       "True"
      ]
     },
     "execution_count": 25,
     "metadata": {},
     "output_type": "execute_result"
    }
   ],
   "source": [
    "# Test whether the status code was 200 OK, the HTTP success code.\n",
    "r.status_code == requests.codes.ok"
   ]
  },
  {
   "cell_type": "code",
   "execution_count": 26,
   "metadata": {},
   "outputs": [
    {
     "name": "stdout",
     "output_type": "stream",
     "text": [
      "[{\"id\":\"8825900324\",\"type\":\"PushEvent\",\"actor\":{\"id\":12846,\"login\":\"agnathan\",\"display_login\":\"agnathan\",\"gravatar_id\":\"\",\"url\":\"https://api.github.com/users/agnathan\",\"avatar_url\":\"https://avatars.githubusercontent.com/u/12846?\"},\"repo\":{\"id\":163895759,\"name\":\"SSG-DRD-IOT/lab-workload-consolidation\",\"url\":\"https://api.github.com/repos/SSG-DRD-IOT/lab-workload-consolidation\"},\"payload\":{\"push_id\":3177014332,\"size\":1,\"distinct_size\":1,\"ref\":\"refs/heads/master\",\"head\":\"7ad41b6d2c1de2252d13c56ee4297e9bde61a714\",\"before\":\"c6cdda8ca74c21776c49e68e2dd6810f4038bd01\",\"commits\":[{\"sha\":\"7ad41b6d2c1de2252d13c56ee4297e9bde61a714\",\"author\":{\"email\":\"agnathan@gmail.com\",\"name\":\"Daniel Holmlund\"},\"message\":\"Initial commit of the Introduction to Workload Consolidation\\n\\nThis is the initial introduction to the Workload Consolidation labs. We should link all labs related to virtualization and real-time systems here.\",\"distinct\":true,\"url\":\"https://api.github.com/repos/SSG-DRD-IOT/lab-workload-consolidation/commits/7ad41b6d2c1de2252d13c56ee4297e9bde61a714\"}]},\"public\":true,\"created_at\":\"2019-01-02T22:45:18Z\",\"org\":{\"id\":12757935,\"login\":\"SSG-DRD-IOT\",\"gravatar_id\":\"\",\"url\":\"https://api.github.com/orgs/SSG-DRD-IOT\",\"avatar_url\":\"https://avatars.githubusercontent.com/u/12757935?\"}},{\"id\":\"8825818145\",\"type\":\"CreateEvent\",\"actor\":{\"id\":12846,\"login\":\"agnathan\",\"display_login\":\"agnathan\",\"gravatar_id\":\"\",\"url\":\"https://api.github.com/users/agnathan\",\"avatar_url\":\"https://avatars.githubusercontent.com/u/12846?\"},\"repo\":{\"id\":163895759,\"name\":\"SSG-DRD-IOT/lab-workload-consolidation\",\"url\":\"https://api.github.com/repos/SSG-DRD-IOT/lab-workload-consolidation\"},\"payload\":{\"ref\":\"master\",\"ref_type\":\"branch\",\"master_branch\":\"master\",\"description\":\"This lab is the top level Table of Contents that points to all of the Workload Consolidation labs.\",\"pusher_type\":\"user\"},\"public\":true,\"created_at\":\"2019-01-02T22:22:38Z\",\"org\":{\"id\":12757935,\"login\":\"SSG-DRD-IOT\",\"gravatar_id\":\"\",\"url\":\"https://api.github.com/orgs/SSG-DRD-IOT\",\"avatar_url\":\"https://avatars.githubusercontent.com/u/12757935?\"}},{\"id\":\"8825818072\",\"type\":\"CreateEvent\",\"actor\":{\"id\":12846,\"login\":\"agnathan\",\"display_login\":\"agnathan\",\"gravatar_id\":\"\",\"url\":\"https://api.github.com/users/agnathan\",\"avatar_url\":\"https://avatars.githubusercontent.com/u/12846?\"},\"repo\":{\"id\":163895759,\"name\":\"SSG-DRD-IOT/lab-workload-consolidation\",\"url\":\"https://api.github.com/repos/SSG-DRD-IOT/lab-workload-consolidation\"},\"payload\":{\"ref\":null,\"ref_type\":\"repository\",\"master_branch\":\"master\",\"description\":\"This lab is the top level Table of Contents that points to all of the Workload Consolidation labs.\",\"pusher_type\":\"user\"},\"public\":true,\"created_at\":\"2019-01-02T22:22:37Z\",\"org\":{\"id\":12757935,\"login\":\"SSG-DRD-IOT\",\"gravatar_id\":\"\",\"url\":\"https://api.github.com/orgs/SSG-DRD-IOT\",\"avatar_url\":\"https://avatars.githubusercontent.com/u/12757935?\"}},{\"id\":\"8815996939\",\"type\":\"WatchEvent\",\"actor\":{\"id\":212313,\"login\":\"carlosg2\",\"display_login\":\"carlosg2\",\"gravatar_id\":\"\",\"url\":\"https://api.github.com/users/carlosg2\",\"avatar_url\":\"https://avatars.githubusercontent.com/u/212313?\"},\"repo\":{\"id\":139477412,\"name\":\"SSG-DRD-IOT/intel_retail_workshop\",\"url\":\"https://api.github.com/repos/SSG-DRD-IOT/intel_retail_workshop\"},\"payload\":{\"action\":\"started\"},\"public\":true,\"created_at\":\"2018-12-30T03:11:11Z\",\"org\":{\"id\":12757935,\"login\":\"SSG-DRD-IOT\",\"gravatar_id\":\"\",\"url\":\"https://api.github.com/orgs/SSG-DRD-IOT\",\"avatar_url\":\"https://avatars.githubusercontent.com/u/12757935?\"}},{\"id\":\"8801870883\",\"type\":\"WatchEvent\",\"actor\":{\"id\":2976264,\"login\":\"dfr4554\",\"display_login\":\"dfr4554\",\"gravatar_id\":\"\",\"url\":\"https://api.github.com/users/dfr4554\",\"avatar_url\":\"https://avatars.githubusercontent.com/u/2976264?\"},\"repo\":{\"id\":151459672,\"name\":\"SSG-DRD-IOT/intel-openvino-workshop\",\"url\":\"https://api.github.com/repos/SSG-DRD-IOT/intel-openvino-workshop\"},\"payload\":{\"action\":\"started\"},\"public\":true,\"created_at\":\"2018-12-25T14:41:37Z\",\"org\":{\"id\":12757935,\"login\":\"SSG-DRD-IOT\",\"gravatar_id\":\"\",\"url\":\"https://api.github.com/orgs/SSG-DRD-IOT\",\"avatar_url\":\"https://avatars.githubusercontent.com/u/12757935?\"}},{\"id\":\"8753949506\",\"type\":\"PushEvent\",\"actor\":{\"id\":38256832,\"login\":\"basantapatra1985\",\"display_login\":\"basantapatra1985\",\"gravatar_id\":\"\",\"url\":\"https://api.github.com/users/basantapatra1985\",\"avatar_url\":\"https://avatars.githubusercontent.com/u/38256832?\"},\"repo\":{\"id\":139477412,\"name\":\"SSG-DRD-IOT/intel_retail_workshop\",\"url\":\"https://api.github.com/repos/SSG-DRD-IOT/intel_retail_workshop\"},\"payload\":{\"push_id\":3137378649,\"size\":1,\"distinct_size\":1,\"ref\":\"refs/heads/lab-retail-workshop-windows\",\"head\":\"2c43bd191fe9edfcc3bafbc9a01e75ac94a1bfca\",\"before\":\"53851520669b45721cadae7f86201f91648e2a59\",\"commits\":[{\"sha\":\"2c43bd191fe9edfcc3bafbc9a01e75ac94a1bfca\",\"author\":{\"email\":\"basantax.patra@intel.com\",\"name\":\"Basanta Patra\"},\"message\":\"Intel Unite minor contents updates\",\"distinct\":true,\"url\":\"https://api.github.com/repos/SSG-DRD-IOT/intel_retail_workshop/commits/2c43bd191fe9edfcc3bafbc9a01e75ac94a1bfca\"}]},\"public\":true,\"created_at\":\"2018-12-14T10:06:15Z\",\"org\":{\"id\":12757935,\"login\":\"SSG-DRD-IOT\",\"gravatar_id\":\"\",\"url\":\"https://api.github.com/orgs/SSG-DRD-IOT\",\"avatar_url\":\"https://avatars.githubusercontent.com/u/12757935?\"}},{\"id\":\"8749136380\",\"type\":\"PushEvent\",\"actor\":{\"id\":38256832,\"login\":\"basantapatra1985\",\"display_login\":\"basantapatra1985\",\"gravatar_id\":\"\",\"url\":\"https://api.github.com/users/basantapatra1985\",\"avatar_url\":\"https://avatars.githubusercontent.com/u/38256832?\"},\"repo\":{\"id\":139477412,\"name\":\"SSG-DRD-IOT/intel_retail_workshop\",\"url\":\"https://api.github.com/repos/SSG-DRD-IOT/intel_retail_workshop\"},\"payload\":{\"push_id\":3134885101,\"size\":1,\"distinct_size\":1,\"ref\":\"refs/heads/lab-retail-workshop-linux\",\"head\":\"3620bffb7b3801e1c2c19f8ceb89f4c167f937a9\",\"before\":\"ae5c0a867c8f6cceaeca3f55481f415839473431\",\"commits\":[{\"sha\":\"3620bffb7b3801e1c2c19f8ceb89f4c167f937a9\",\"author\":{\"email\":\"basantax.patra@intel.com\",\"name\":\"Basanta Patra\"},\"message\":\"Mesh commander setup instruction image updated\",\"distinct\":true,\"url\":\"https://api.github.com/repos/SSG-DRD-IOT/intel_retail_workshop/commits/3620bffb7b3801e1c2c19f8ceb89f4c167f937a9\"}]},\"public\":true,\"created_at\":\"2018-12-13T15:41:51Z\",\"org\":{\"id\":12757935,\"login\":\"SSG-DRD-IOT\",\"gravatar_id\":\"\",\"url\":\"https://api.github.com/orgs/SSG-DRD-IOT\",\"avatar_url\":\"https://avatars.githubusercontent.com/u/12757935?\"}},{\"id\":\"8745975553\",\"type\":\"PushEvent\",\"actor\":{\"id\":38256832,\"login\":\"basantapatra1985\",\"display_login\":\"basantapatra1985\",\"gravatar_id\":\"\",\"url\":\"https://api.github.com/users/basantapatra1985\",\"avatar_url\":\"https://avatars.githubusercontent.com/u/38256832?\"},\"repo\":{\"id\":139477412,\"name\":\"SSG-DRD-IOT/intel_retail_workshop\",\"url\":\"https://api.github.com/repos/SSG-DRD-IOT/intel_retail_workshop\"},\"payload\":{\"push_id\":3133247858,\"size\":1,\"distinct_size\":1,\"ref\":\"refs/heads/lab-retail-workshop-linux\",\"head\":\"ae5c0a867c8f6cceaeca3f55481f415839473431\",\"before\":\"f88e4d883891ab649dad313ee3adcc6c5d6c7425\",\"commits\":[{\"sha\":\"ae5c0a867c8f6cceaeca3f55481f415839473431\",\"author\":{\"email\":\"basantax.patra@intel.com\",\"name\":\"Basanta Patra\"},\"message\":\"Updated Setup and deployment guide with openvino used version\",\"distinct\":true,\"url\":\"https://api.github.com/repos/SSG-DRD-IOT/intel_retail_workshop/commits/ae5c0a867c8f6cceaeca3f55481f415839473431\"}]},\"public\":true,\"created_at\":\"2018-12-13T05:51:22Z\",\"org\":{\"id\":12757935,\"login\":\"SSG-DRD-IOT\",\"gravatar_id\":\"\",\"url\":\"https://api.github.com/orgs/SSG-DRD-IOT\",\"avatar_url\":\"https://avatars.githubusercontent.com/u/12757935?\"}},{\"id\":\"8745973055\",\"type\":\"PushEvent\",\"actor\":{\"id\":38256832,\"login\":\"basantapatra1985\",\"display_login\":\"basantapatra1985\",\"gravatar_id\":\"\",\"url\":\"https://api.github.com/users/basantapatra1985\",\"avatar_url\":\"https://avatars.githubusercontent.com/u/38256832?\"},\"repo\":{\"id\":139477412,\"name\":\"SSG-DRD-IOT/intel_retail_workshop\",\"url\":\"https://api.github.com/repos/SSG-DRD-IOT/intel_retail_workshop\"},\"payload\":{\"push_id\":3133246501,\"size\":1,\"distinct_size\":1,\"ref\":\"refs/heads/lab-retail-workshop-linux\",\"head\":\"f88e4d883891ab649dad313ee3adcc6c5d6c7425\",\"before\":\"d2e06c25ec88b22f88ed503075dafddd6235aab4\",\"commits\":[{\"sha\":\"f88e4d883891ab649dad313ee3adcc6c5d6c7425\",\"author\":{\"email\":\"basantax.patra@intel.com\",\"name\":\"Basanta Patra\"},\"message\":\"Updated Setup and deployment guide with openvino used version\",\"distinct\":true,\"url\":\"https://api.github.com/repos/SSG-DRD-IOT/intel_retail_workshop/commits/f88e4d883891ab649dad313ee3adcc6c5d6c7425\"}]},\"public\":true,\"created_at\":\"2018-12-13T05:50:29Z\",\"org\":{\"id\":12757935,\"login\":\"SSG-DRD-IOT\",\"gravatar_id\":\"\",\"url\":\"https://api.github.com/orgs/SSG-DRD-IOT\",\"avatar_url\":\"https://avatars.githubusercontent.com/u/12757935?\"}},{\"id\":\"8743510358\",\"type\":\"PushEvent\",\"actor\":{\"id\":38256832,\"login\":\"basantapatra1985\",\"display_login\":\"basantapatra1985\",\"gravatar_id\":\"\",\"url\":\"https://api.github.com/users/basantapatra1985\",\"avatar_url\":\"https://avatars.githubusercontent.com/u/38256832?\"},\"repo\":{\"id\":139477412,\"name\":\"SSG-DRD-IOT/intel_retail_workshop\",\"url\":\"https://api.github.com/repos/SSG-DRD-IOT/intel_retail_workshop\"},\"payload\":{\"push_id\":3131943234,\"size\":1,\"distinct_size\":1,\"ref\":\"refs/heads/lab-retail-workshop-windows\",\"head\":\"53851520669b45721cadae7f86201f91648e2a59\",\"before\":\"eaeaf92b20d6f32654fda904c77aa8a5cb5ba97d\",\"commits\":[{\"sha\":\"53851520669b45721cadae7f86201f91648e2a59\",\"author\":{\"email\":\"basantax.patra@intel.com\",\"name\":\"Basanta Patra\"},\"message\":\"Plugin unloading module updated\",\"distinct\":true,\"url\":\"https://api.github.com/repos/SSG-DRD-IOT/intel_retail_workshop/commits/53851520669b45721cadae7f86201f91648e2a59\"}]},\"public\":true,\"created_at\":\"2018-12-12T19:22:43Z\",\"org\":{\"id\":12757935,\"login\":\"SSG-DRD-IOT\",\"gravatar_id\":\"\",\"url\":\"https://api.github.com/orgs/SSG-DRD-IOT\",\"avatar_url\":\"https://avatars.githubusercontent.com/u/12757935?\"}},{\"id\":\"8743434872\",\"type\":\"PushEvent\",\"actor\":{\"id\":38256832,\"login\":\"basantapatra1985\",\"display_login\":\"basantapatra1985\",\"gravatar_id\":\"\",\"url\":\"https://api.github.com/users/basantapatra1985\",\"avatar_url\":\"https://avatars.githubusercontent.com/u/38256832?\"},\"repo\":{\"id\":139477412,\"name\":\"SSG-DRD-IOT/intel_retail_workshop\",\"url\":\"https://api.github.com/repos/SSG-DRD-IOT/intel_retail_workshop\"},\"payload\":{\"push_id\":3131904428,\"size\":1,\"distinct_size\":1,\"ref\":\"refs/heads/lab-retail-workshop-linux\",\"head\":\"d2e06c25ec88b22f88ed503075dafddd6235aab4\",\"before\":\"6b6d213cee94af8ed1fdf17095237e2eff1e7d63\",\"commits\":[{\"sha\":\"d2e06c25ec88b22f88ed503075dafddd6235aab4\",\"author\":{\"email\":\"basantax.patra@intel.com\",\"name\":\"Basanta Patra\"},\"message\":\"Setup guide updated and links updated\",\"distinct\":true,\"url\":\"https://api.github.com/repos/SSG-DRD-IOT/intel_retail_workshop/commits/d2e06c25ec88b22f88ed503075dafddd6235aab4\"}]},\"public\":true,\"created_at\":\"2018-12-12T19:09:32Z\",\"org\":{\"id\":12757935,\"login\":\"SSG-DRD-IOT\",\"gravatar_id\":\"\",\"url\":\"https://api.github.com/orgs/SSG-DRD-IOT\",\"avatar_url\":\"https://avatars.githubusercontent.com/u/12757935?\"}},{\"id\":\"8722546536\",\"type\":\"PushEvent\",\"actor\":{\"id\":38256832,\"login\":\"basantapatra1985\",\"display_login\":\"basantapatra1985\",\"gravatar_id\":\"\",\"url\":\"https://api.github.com/users/basantapatra1985\",\"avatar_url\":\"https://avatars.githubusercontent.com/u/38256832?\"},\"repo\":{\"id\":139477412,\"name\":\"SSG-DRD-IOT/intel_retail_workshop\",\"url\":\"https://api.github.com/repos/SSG-DRD-IOT/intel_retail_workshop\"},\"payload\":{\"push_id\":3120897031,\"size\":1,\"distinct_size\":1,\"ref\":\"refs/heads/lab-retail-workshop-linux\",\"head\":\"6b6d213cee94af8ed1fdf17095237e2eff1e7d63\",\"before\":\"af1740e0b09f2935bd6589c3efd6abd37cd61be5\",\"commits\":[{\"sha\":\"6b6d213cee94af8ed1fdf17095237e2eff1e7d63\",\"author\":{\"email\":\"basantax.patra@intel.com\",\"name\":\"Basanta Patra\"},\"message\":\"Troubleshooting section updated\",\"distinct\":true,\"url\":\"https://api.github.com/repos/SSG-DRD-IOT/intel_retail_workshop/commits/6b6d213cee94af8ed1fdf17095237e2eff1e7d63\"}]},\"public\":true,\"created_at\":\"2018-12-09T13:37:55Z\",\"org\":{\"id\":12757935,\"login\":\"SSG-DRD-IOT\",\"gravatar_id\":\"\",\"url\":\"https://api.github.com/orgs/SSG-DRD-IOT\",\"avatar_url\":\"https://avatars.githubusercontent.com/u/12757935?\"}},{\"id\":\"8717242227\",\"type\":\"PushEvent\",\"actor\":{\"id\":38256832,\"login\":\"basantapatra1985\",\"display_login\":\"basantapatra1985\",\"gravatar_id\":\"\",\"url\":\"https://api.github.com/users/basantapatra1985\",\"avatar_url\":\"https://avatars.githubusercontent.com/u/38256832?\"},\"repo\":{\"id\":139477412,\"name\":\"SSG-DRD-IOT/intel_retail_workshop\",\"url\":\"https://api.github.com/repos/SSG-DRD-IOT/intel_retail_workshop\"},\"payload\":{\"push_id\":3117753782,\"size\":1,\"distinct_size\":1,\"ref\":\"refs/heads/lab-retail-workshop-linux\",\"head\":\"af1740e0b09f2935bd6589c3efd6abd37cd61be5\",\"before\":\"5a4d23056fe26def9e49a119103f1ca7cf863faf\",\"commits\":[{\"sha\":\"af1740e0b09f2935bd6589c3efd6abd37cd61be5\",\"author\":{\"email\":\"basantax.patra@intel.com\",\"name\":\"Basanta Patra\"},\"message\":\"Updated Troubleshooting section in setup guide\",\"distinct\":true,\"url\":\"https://api.github.com/repos/SSG-DRD-IOT/intel_retail_workshop/commits/af1740e0b09f2935bd6589c3efd6abd37cd61be5\"}]},\"public\":true,\"created_at\":\"2018-12-07T16:34:45Z\",\"org\":{\"id\":12757935,\"login\":\"SSG-DRD-IOT\",\"gravatar_id\":\"\",\"url\":\"https://api.github.com/orgs/SSG-DRD-IOT\",\"avatar_url\":\"https://avatars.githubusercontent.com/u/12757935?\"}},{\"id\":\"8716986761\",\"type\":\"PushEvent\",\"actor\":{\"id\":38256832,\"login\":\"basantapatra1985\",\"display_login\":\"basantapatra1985\",\"gravatar_id\":\"\",\"url\":\"https://api.github.com/users/basantapatra1985\",\"avatar_url\":\"https://avatars.githubusercontent.com/u/38256832?\"},\"repo\":{\"id\":139477412,\"name\":\"SSG-DRD-IOT/intel_retail_workshop\",\"url\":\"https://api.github.com/repos/SSG-DRD-IOT/intel_retail_workshop\"},\"payload\":{\"push_id\":3117620409,\"size\":1,\"distinct_size\":1,\"ref\":\"refs/heads/lab-retail-workshop-windows\",\"head\":\"eaeaf92b20d6f32654fda904c77aa8a5cb5ba97d\",\"before\":\"d7a45ca307d229ef097844c95bda0b4289d6a7df\",\"commits\":[{\"sha\":\"eaeaf92b20d6f32654fda904c77aa8a5cb5ba97d\",\"author\":{\"email\":\"basantax.patra@intel.com\",\"name\":\"Basanta Patra\"},\"message\":\"Setup and deplyment guide renamed\",\"distinct\":true,\"url\":\"https://api.github.com/repos/SSG-DRD-IOT/intel_retail_workshop/commits/eaeaf92b20d6f32654fda904c77aa8a5cb5ba97d\"}]},\"public\":true,\"created_at\":\"2018-12-07T15:53:50Z\",\"org\":{\"id\":12757935,\"login\":\"SSG-DRD-IOT\",\"gravatar_id\":\"\",\"url\":\"https://api.github.com/orgs/SSG-DRD-IOT\",\"avatar_url\":\"https://avatars.githubusercontent.com/u/12757935?\"}},{\"id\":\"8711227475\",\"type\":\"PushEvent\",\"actor\":{\"id\":38256832,\"login\":\"basantapatra1985\",\"display_login\":\"basantapatra1985\",\"gravatar_id\":\"\",\"url\":\"https://api.github.com/users/basantapatra1985\",\"avatar_url\":\"https://avatars.githubusercontent.com/u/38256832?\"},\"repo\":{\"id\":139477412,\"name\":\"SSG-DRD-IOT/intel_retail_workshop\",\"url\":\"https://api.github.com/repos/SSG-DRD-IOT/intel_retail_workshop\"},\"payload\":{\"push_id\":3114536012,\"size\":1,\"distinct_size\":1,\"ref\":\"refs/heads/lab-retail-workshop-linux\",\"head\":\"5a4d23056fe26def9e49a119103f1ca7cf863faf\",\"before\":\"edc3f23d15d32314eb8f1979236c6df19595e612\",\"commits\":[{\"sha\":\"5a4d23056fe26def9e49a119103f1ca7cf863faf\",\"author\":{\"email\":\"basantax.patra@intel.com\",\"name\":\"Basanta Patra\"},\"message\":\"Updated:Link to Retail folder\",\"distinct\":true,\"url\":\"https://api.github.com/repos/SSG-DRD-IOT/intel_retail_workshop/commits/5a4d23056fe26def9e49a119103f1ca7cf863faf\"}]},\"public\":true,\"created_at\":\"2018-12-06T18:35:46Z\",\"org\":{\"id\":12757935,\"login\":\"SSG-DRD-IOT\",\"gravatar_id\":\"\",\"url\":\"https://api.github.com/orgs/SSG-DRD-IOT\",\"avatar_url\":\"https://avatars.githubusercontent.com/u/12757935?\"}},{\"id\":\"8711172043\",\"type\":\"PushEvent\",\"actor\":{\"id\":38256832,\"login\":\"basantapatra1985\",\"display_login\":\"basantapatra1985\",\"gravatar_id\":\"\",\"url\":\"https://api.github.com/users/basantapatra1985\",\"avatar_url\":\"https://avatars.githubusercontent.com/u/38256832?\"},\"repo\":{\"id\":139477412,\"name\":\"SSG-DRD-IOT/intel_retail_workshop\",\"url\":\"https://api.github.com/repos/SSG-DRD-IOT/intel_retail_workshop\"},\"payload\":{\"push_id\":3114507236,\"size\":1,\"distinct_size\":1,\"ref\":\"refs/heads/lab-retail-workshop-linux\",\"head\":\"edc3f23d15d32314eb8f1979236c6df19595e612\",\"before\":\"a49d2a659276e00d609aa3f135cf3750bc29c4d0\",\"commits\":[{\"sha\":\"edc3f23d15d32314eb8f1979236c6df19595e612\",\"author\":{\"email\":\"basantax.patra@intel.com\",\"name\":\"Basanta Patra\"},\"message\":\"Added a NOTE for h265 file usage\",\"distinct\":true,\"url\":\"https://api.github.com/repos/SSG-DRD-IOT/intel_retail_workshop/commits/edc3f23d15d32314eb8f1979236c6df19595e612\"}]},\"public\":true,\"created_at\":\"2018-12-06T18:25:46Z\",\"org\":{\"id\":12757935,\"login\":\"SSG-DRD-IOT\",\"gravatar_id\":\"\",\"url\":\"https://api.github.com/orgs/SSG-DRD-IOT\",\"avatar_url\":\"https://avatars.githubusercontent.com/u/12757935?\"}},{\"id\":\"8711129699\",\"type\":\"PushEvent\",\"actor\":{\"id\":38256832,\"login\":\"basantapatra1985\",\"display_login\":\"basantapatra1985\",\"gravatar_id\":\"\",\"url\":\"https://api.github.com/users/basantapatra1985\",\"avatar_url\":\"https://avatars.githubusercontent.com/u/38256832?\"},\"repo\":{\"id\":139477412,\"name\":\"SSG-DRD-IOT/intel_retail_workshop\",\"url\":\"https://api.github.com/repos/SSG-DRD-IOT/intel_retail_workshop\"},\"payload\":{\"push_id\":3114485729,\"size\":1,\"distinct_size\":1,\"ref\":\"refs/heads/retail-workshop-linux\",\"head\":\"c726599ee162c0ccd4e953cc1ec29896f88193b0\",\"before\":\"2e2390b5d5753cb93a6de4641775313b5a79f089\",\"commits\":[{\"sha\":\"c726599ee162c0ccd4e953cc1ec29896f88193b0\",\"author\":{\"email\":\"basantax.patra@intel.com\",\"name\":\"Basanta Patra\"},\"message\":\"Added a README\",\"distinct\":true,\"url\":\"https://api.github.com/repos/SSG-DRD-IOT/intel_retail_workshop/commits/c726599ee162c0ccd4e953cc1ec29896f88193b0\"}]},\"public\":true,\"created_at\":\"2018-12-06T18:18:08Z\",\"org\":{\"id\":12757935,\"login\":\"SSG-DRD-IOT\",\"gravatar_id\":\"\",\"url\":\"https://api.github.com/orgs/SSG-DRD-IOT\",\"avatar_url\":\"https://avatars.githubusercontent.com/u/12757935?\"}},{\"id\":\"8711107770\",\"type\":\"PushEvent\",\"actor\":{\"id\":38256832,\"login\":\"basantapatra1985\",\"display_login\":\"basantapatra1985\",\"gravatar_id\":\"\",\"url\":\"https://api.github.com/users/basantapatra1985\",\"avatar_url\":\"https://avatars.githubusercontent.com/u/38256832?\"},\"repo\":{\"id\":139477412,\"name\":\"SSG-DRD-IOT/intel_retail_workshop\",\"url\":\"https://api.github.com/repos/SSG-DRD-IOT/intel_retail_workshop\"},\"payload\":{\"push_id\":3114474449,\"size\":1,\"distinct_size\":1,\"ref\":\"refs/heads/retail-workshop-linux\",\"head\":\"2e2390b5d5753cb93a6de4641775313b5a79f089\",\"before\":\"3c03c85c374541fcce8de10ec092b2ab602799a6\",\"commits\":[{\"sha\":\"2e2390b5d5753cb93a6de4641775313b5a79f089\",\"author\":{\"email\":\"basantax.patra@intel.com\",\"name\":\"Basanta Patra\"},\"message\":\"Retail folder updated with CloudAnalytics Server\",\"distinct\":true,\"url\":\"https://api.github.com/repos/SSG-DRD-IOT/intel_retail_workshop/commits/2e2390b5d5753cb93a6de4641775313b5a79f089\"}]},\"public\":true,\"created_at\":\"2018-12-06T18:14:10Z\",\"org\":{\"id\":12757935,\"login\":\"SSG-DRD-IOT\",\"gravatar_id\":\"\",\"url\":\"https://api.github.com/orgs/SSG-DRD-IOT\",\"avatar_url\":\"https://avatars.githubusercontent.com/u/12757935?\"}},{\"id\":\"8711023199\",\"type\":\"PushEvent\",\"actor\":{\"id\":38256832,\"login\":\"basantapatra1985\",\"display_login\":\"basantapatra1985\",\"gravatar_id\":\"\",\"url\":\"https://api.github.com/users/basantapatra1985\",\"avatar_url\":\"https://avatars.githubusercontent.com/u/38256832?\"},\"repo\":{\"id\":139477412,\"name\":\"SSG-DRD-IOT/intel_retail_workshop\",\"url\":\"https://api.github.com/repos/SSG-DRD-IOT/intel_retail_workshop\"},\"payload\":{\"push_id\":3114431803,\"size\":1,\"distinct_size\":1,\"ref\":\"refs/heads/retail-workshop-linux\",\"head\":\"3c03c85c374541fcce8de10ec092b2ab602799a6\",\"before\":\"8c8e4b41a1073da1050815765eb8bced75dc7172\",\"commits\":[{\"sha\":\"3c03c85c374541fcce8de10ec092b2ab602799a6\",\"author\":{\"email\":\"basantax.patra@intel.com\",\"name\":\"Basanta Patra\"},\"message\":\"Retail folder for Linux\",\"distinct\":true,\"url\":\"https://api.github.com/repos/SSG-DRD-IOT/intel_retail_workshop/commits/3c03c85c374541fcce8de10ec092b2ab602799a6\"}]},\"public\":true,\"created_at\":\"2018-12-06T17:59:21Z\",\"org\":{\"id\":12757935,\"login\":\"SSG-DRD-IOT\",\"gravatar_id\":\"\",\"url\":\"https://api.github.com/orgs/SSG-DRD-IOT\",\"avatar_url\":\"https://avatars.githubusercontent.com/u/12757935?\"}},{\"id\":\"8710896496\",\"type\":\"DeleteEvent\",\"actor\":{\"id\":38256832,\"login\":\"basantapatra1985\",\"display_login\":\"basantapatra1985\",\"gravatar_id\":\"\",\"url\":\"https://api.github.com/users/basantapatra1985\",\"avatar_url\":\"https://avatars.githubusercontent.com/u/38256832?\"},\"repo\":{\"id\":139477412,\"name\":\"SSG-DRD-IOT/intel_retail_workshop\",\"url\":\"https://api.github.com/repos/SSG-DRD-IOT/intel_retail_workshop\"},\"payload\":{\"ref\":\"retail-linux\",\"ref_type\":\"branch\",\"pusher_type\":\"user\"},\"public\":true,\"created_at\":\"2018-12-06T17:36:50Z\",\"org\":{\"id\":12757935,\"login\":\"SSG-DRD-IOT\",\"gravatar_id\":\"\",\"url\":\"https://api.github.com/orgs/SSG-DRD-IOT\",\"avatar_url\":\"https://avatars.githubusercontent.com/u/12757935?\"}},{\"id\":\"8710863710\",\"type\":\"CreateEvent\",\"actor\":{\"id\":38256832,\"login\":\"basantapatra1985\",\"display_login\":\"basantapatra1985\",\"gravatar_id\":\"\",\"url\":\"https://api.github.com/users/basantapatra1985\",\"avatar_url\":\"https://avatars.githubusercontent.com/u/38256832?\"},\"repo\":{\"id\":139477412,\"name\":\"SSG-DRD-IOT/intel_retail_workshop\",\"url\":\"https://api.github.com/repos/SSG-DRD-IOT/intel_retail_workshop\"},\"payload\":{\"ref\":\"retail-linux\",\"ref_type\":\"branch\",\"master_branch\":\"master\",\"description\":\"Respository for holding retail workshop content\",\"pusher_type\":\"user\"},\"public\":true,\"created_at\":\"2018-12-06T17:31:08Z\",\"org\":{\"id\":12757935,\"login\":\"SSG-DRD-IOT\",\"gravatar_id\":\"\",\"url\":\"https://api.github.com/orgs/SSG-DRD-IOT\",\"avatar_url\":\"https://avatars.githubusercontent.com/u/12757935?\"}},{\"id\":\"8710853362\",\"type\":\"PushEvent\",\"actor\":{\"id\":38256832,\"login\":\"basantapatra1985\",\"display_login\":\"basantapatra1985\",\"gravatar_id\":\"\",\"url\":\"https://api.github.com/users/basantapatra1985\",\"avatar_url\":\"https://avatars.githubusercontent.com/u/38256832?\"},\"repo\":{\"id\":139477412,\"name\":\"SSG-DRD-IOT/intel_retail_workshop\",\"url\":\"https://api.github.com/repos/SSG-DRD-IOT/intel_retail_workshop\"},\"payload\":{\"push_id\":3114343664,\"size\":1,\"distinct_size\":1,\"ref\":\"refs/heads/lab-retail-workshop-linux\",\"head\":\"a49d2a659276e00d609aa3f135cf3750bc29c4d0\",\"before\":\"5db65760ecdd5d769738f54ad90c232eae2731a4\",\"commits\":[{\"sha\":\"a49d2a659276e00d609aa3f135cf3750bc29c4d0\",\"author\":{\"email\":\"basantax.patra@intel.com\",\"name\":\"Basanta Patra\"},\"message\":\"Setup Guide link Fxied\",\"distinct\":true,\"url\":\"https://api.github.com/repos/SSG-DRD-IOT/intel_retail_workshop/commits/a49d2a659276e00d609aa3f135cf3750bc29c4d0\"}]},\"public\":true,\"created_at\":\"2018-12-06T17:29:25Z\",\"org\":{\"id\":12757935,\"login\":\"SSG-DRD-IOT\",\"gravatar_id\":\"\",\"url\":\"https://api.github.com/orgs/SSG-DRD-IOT\",\"avatar_url\":\"https://avatars.githubusercontent.com/u/12757935?\"}},{\"id\":\"8710807283\",\"type\":\"PushEvent\",\"actor\":{\"id\":38256832,\"login\":\"basantapatra1985\",\"display_login\":\"basantapatra1985\",\"gravatar_id\":\"\",\"url\":\"https://api.github.com/users/basantapatra1985\",\"avatar_url\":\"https://avatars.githubusercontent.com/u/38256832?\"},\"repo\":{\"id\":139477412,\"name\":\"SSG-DRD-IOT/intel_retail_workshop\",\"url\":\"https://api.github.com/repos/SSG-DRD-IOT/intel_retail_workshop\"},\"payload\":{\"push_id\":3114320214,\"size\":1,\"distinct_size\":1,\"ref\":\"refs/heads/lab-retail-workshop-linux\",\"head\":\"5db65760ecdd5d769738f54ad90c232eae2731a4\",\"before\":\"72936ec54aedb09d128534810617d69af900e657\",\"commits\":[{\"sha\":\"5db65760ecdd5d769738f54ad90c232eae2731a4\",\"author\":{\"email\":\"basantax.patra@intel.com\",\"name\":\"Basanta Patra\"},\"message\":\"Setup and Deployment Guide added\",\"distinct\":true,\"url\":\"https://api.github.com/repos/SSG-DRD-IOT/intel_retail_workshop/commits/5db65760ecdd5d769738f54ad90c232eae2731a4\"}]},\"public\":true,\"created_at\":\"2018-12-06T17:21:49Z\",\"org\":{\"id\":12757935,\"login\":\"SSG-DRD-IOT\",\"gravatar_id\":\"\",\"url\":\"https://api.github.com/orgs/SSG-DRD-IOT\",\"avatar_url\":\"https://avatars.githubusercontent.com/u/12757935?\"}},{\"id\":\"8686058790\",\"type\":\"PushEvent\",\"actor\":{\"id\":38256832,\"login\":\"basantapatra1985\",\"display_login\":\"basantapatra1985\",\"gravatar_id\":\"\",\"url\":\"https://api.github.com/users/basantapatra1985\",\"avatar_url\":\"https://avatars.githubusercontent.com/u/38256832?\"},\"repo\":{\"id\":139477412,\"name\":\"SSG-DRD-IOT/intel_retail_workshop\",\"url\":\"https://api.github.com/repos/SSG-DRD-IOT/intel_retail_workshop\"},\"payload\":{\"push_id\":3101396685,\"size\":2,\"distinct_size\":2,\"ref\":\"refs/heads/lab-retail-workshop-linux\",\"head\":\"72936ec54aedb09d128534810617d69af900e657\",\"before\":\"6726c8fbde5c4a8f29b4ebe60ca51fcb03023b5f\",\"commits\":[{\"sha\":\"31bc1055b1d899ed6b5a242f872ce87791d7a39c\",\"author\":{\"email\":\"ianx.smith@intel.com\",\"name\":\"Ian Smith\"},\"message\":\"Title trademark updated\",\"distinct\":true,\"url\":\"https://api.github.com/repos/SSG-DRD-IOT/intel_retail_workshop/commits/31bc1055b1d899ed6b5a242f872ce87791d7a39c\"},{\"sha\":\"72936ec54aedb09d128534810617d69af900e657\",\"author\":{\"email\":\"38256832+basantapatra1985@users.noreply.github.com\",\"name\":\"basantapatra1985\"},\"message\":\"Merge pull request #9 from IanXSmith/patch-3\\n\\nTitle trademark updated\",\"distinct\":true,\"url\":\"https://api.github.com/repos/SSG-DRD-IOT/intel_retail_workshop/commits/72936ec54aedb09d128534810617d69af900e657\"}]},\"public\":true,\"created_at\":\"2018-12-03T09:46:22Z\",\"org\":{\"id\":12757935,\"login\":\"SSG-DRD-IOT\",\"gravatar_id\":\"\",\"url\":\"https://api.github.com/orgs/SSG-DRD-IOT\",\"avatar_url\":\"https://avatars.githubusercontent.com/u/12757935?\"}},{\"id\":\"8686058600\",\"type\":\"PullRequestEvent\",\"actor\":{\"id\":38256832,\"login\":\"basantapatra1985\",\"display_login\":\"basantapatra1985\",\"gravatar_id\":\"\",\"url\":\"https://api.github.com/users/basantapatra1985\",\"avatar_url\":\"https://avatars.githubusercontent.com/u/38256832?\"},\"repo\":{\"id\":139477412,\"name\":\"SSG-DRD-IOT/intel_retail_workshop\",\"url\":\"https://api.github.com/repos/SSG-DRD-IOT/intel_retail_workshop\"},\"payload\":{\"action\":\"closed\",\"number\":9,\"pull_request\":{\"url\":\"https://api.github.com/repos/SSG-DRD-IOT/intel_retail_workshop/pulls/9\",\"id\":235141255,\"node_id\":\"MDExOlB1bGxSZXF1ZXN0MjM1MTQxMjU1\",\"html_url\":\"https://github.com/SSG-DRD-IOT/intel_retail_workshop/pull/9\",\"diff_url\":\"https://github.com/SSG-DRD-IOT/intel_retail_workshop/pull/9.diff\",\"patch_url\":\"https://github.com/SSG-DRD-IOT/intel_retail_workshop/pull/9.patch\",\"issue_url\":\"https://api.github.com/repos/SSG-DRD-IOT/intel_retail_workshop/issues/9\",\"number\":9,\"state\":\"closed\",\"locked\":false,\"title\":\"Title trademark updated\",\"user\":{\"login\":\"IanXSmith\",\"id\":20446307,\"node_id\":\"MDQ6VXNlcjIwNDQ2MzA3\",\"avatar_url\":\"https://avatars3.githubusercontent.com/u/20446307?v=4\",\"gravatar_id\":\"\",\"url\":\"https://api.github.com/users/IanXSmith\",\"html_url\":\"https://github.com/IanXSmith\",\"followers_url\":\"https://api.github.com/users/IanXSmith/followers\",\"following_url\":\"https://api.github.com/users/IanXSmith/following{/other_user}\",\"gists_url\":\"https://api.github.com/users/IanXSmith/gists{/gist_id}\",\"starred_url\":\"https://api.github.com/users/IanXSmith/starred{/owner}{/repo}\",\"subscriptions_url\":\"https://api.github.com/users/IanXSmith/subscriptions\",\"organizations_url\":\"https://api.github.com/users/IanXSmith/orgs\",\"repos_url\":\"https://api.github.com/users/IanXSmith/repos\",\"events_url\":\"https://api.github.com/users/IanXSmith/events{/privacy}\",\"received_events_url\":\"https://api.github.com/users/IanXSmith/received_events\",\"type\":\"User\",\"site_admin\":false},\"body\":\"\",\"created_at\":\"2018-11-30T23:06:47Z\",\"updated_at\":\"2018-12-03T09:45:52Z\",\"closed_at\":\"2018-12-03T09:45:52Z\",\"merged_at\":\"2018-12-03T09:45:52Z\",\"merge_commit_sha\":\"72936ec54aedb09d128534810617d69af900e657\",\"assignee\":null,\"assignees\":[],\"requested_reviewers\":[],\"requested_teams\":[],\"labels\":[],\"milestone\":null,\"commits_url\":\"https://api.github.com/repos/SSG-DRD-IOT/intel_retail_workshop/pulls/9/commits\",\"review_comments_url\":\"https://api.github.com/repos/SSG-DRD-IOT/intel_retail_workshop/pulls/9/comments\",\"review_comment_url\":\"https://api.github.com/repos/SSG-DRD-IOT/intel_retail_workshop/pulls/comments{/number}\",\"comments_url\":\"https://api.github.com/repos/SSG-DRD-IOT/intel_retail_workshop/issues/9/comments\",\"statuses_url\":\"https://api.github.com/repos/SSG-DRD-IOT/intel_retail_workshop/statuses/31bc1055b1d899ed6b5a242f872ce87791d7a39c\",\"head\":{\"label\":\"IanXSmith:patch-3\",\"ref\":\"patch-3\",\"sha\":\"31bc1055b1d899ed6b5a242f872ce87791d7a39c\",\"user\":{\"login\":\"IanXSmith\",\"id\":20446307,\"node_id\":\"MDQ6VXNlcjIwNDQ2MzA3\",\"avatar_url\":\"https://avatars3.githubusercontent.com/u/20446307?v=4\",\"gravatar_id\":\"\",\"url\":\"https://api.github.com/users/IanXSmith\",\"html_url\":\"https://github.com/IanXSmith\",\"followers_url\":\"https://api.github.com/users/IanXSmith/followers\",\"following_url\":\"https://api.github.com/users/IanXSmith/following{/other_user}\",\"gists_url\":\"https://api.github.com/users/IanXSmith/gists{/gist_id}\",\"starred_url\":\"https://api.github.com/users/IanXSmith/starred{/owner}{/repo}\",\"subscriptions_url\":\"https://api.github.com/users/IanXSmith/subscriptions\",\"organizations_url\":\"https://api.github.com/users/IanXSmith/orgs\",\"repos_url\":\"https://api.github.com/users/IanXSmith/repos\",\"events_url\":\"https://api.github.com/users/IanXSmith/events{/privacy}\",\"received_events_url\":\"https://api.github.com/users/IanXSmith/received_events\",\"type\":\"User\",\"site_admin\":false},\"repo\":{\"id\":154185787,\"node_id\":\"MDEwOlJlcG9zaXRvcnkxNTQxODU3ODc=\",\"name\":\"intel_retail_workshop\",\"full_name\":\"IanXSmith/intel_retail_workshop\",\"private\":false,\"owner\":{\"login\":\"IanXSmith\",\"id\":20446307,\"node_id\":\"MDQ6VXNlcjIwNDQ2MzA3\",\"avatar_url\":\"https://avatars3.githubusercontent.com/u/20446307?v=4\",\"gravatar_id\":\"\",\"url\":\"https://api.github.com/users/IanXSmith\",\"html_url\":\"https://github.com/IanXSmith\",\"followers_url\":\"https://api.github.com/users/IanXSmith/followers\",\"following_url\":\"https://api.github.com/users/IanXSmith/following{/other_user}\",\"gists_url\":\"https://api.github.com/users/IanXSmith/gists{/gist_id}\",\"starred_url\":\"https://api.github.com/users/IanXSmith/starred{/owner}{/repo}\",\"subscriptions_url\":\"https://api.github.com/users/IanXSmith/subscriptions\",\"organizations_url\":\"https://api.github.com/users/IanXSmith/orgs\",\"repos_url\":\"https://api.github.com/users/IanXSmith/repos\",\"events_url\":\"https://api.github.com/users/IanXSmith/events{/privacy}\",\"received_events_url\":\"https://api.github.com/users/IanXSmith/received_events\",\"type\":\"User\",\"site_admin\":false},\"html_url\":\"https://github.com/IanXSmith/intel_retail_workshop\",\"description\":\"Respository for holding retail workshop content\",\"fork\":true,\"url\":\"https://api.github.com/repos/IanXSmith/intel_retail_workshop\",\"forks_url\":\"https://api.github.com/repos/IanXSmith/intel_retail_workshop/forks\",\"keys_url\":\"https://api.github.com/repos/IanXSmith/intel_retail_workshop/keys{/key_id}\",\"collaborators_url\":\"https://api.github.com/repos/IanXSmith/intel_retail_workshop/collaborators{/collaborator}\",\"teams_url\":\"https://api.github.com/repos/IanXSmith/intel_retail_workshop/teams\",\"hooks_url\":\"https://api.github.com/repos/IanXSmith/intel_retail_workshop/hooks\",\"issue_events_url\":\"https://api.github.com/repos/IanXSmith/intel_retail_workshop/issues/events{/number}\",\"events_url\":\"https://api.github.com/repos/IanXSmith/intel_retail_workshop/events\",\"assignees_url\":\"https://api.github.com/repos/IanXSmith/intel_retail_workshop/assignees{/user}\",\"branches_url\":\"https://api.github.com/repos/IanXSmith/intel_retail_workshop/branches{/branch}\",\"tags_url\":\"https://api.github.com/repos/IanXSmith/intel_retail_workshop/tags\",\"blobs_url\":\"https://api.github.com/repos/IanXSmith/intel_retail_workshop/git/blobs{/sha}\",\"git_tags_url\":\"https://api.github.com/repos/IanXSmith/intel_retail_workshop/git/tags{/sha}\",\"git_refs_url\":\"https://api.github.com/repos/IanXSmith/intel_retail_workshop/git/refs{/sha}\",\"trees_url\":\"https://api.github.com/repos/IanXSmith/intel_retail_workshop/git/trees{/sha}\",\"statuses_url\":\"https://api.github.com/repos/IanXSmith/intel_retail_workshop/statuses/{sha}\",\"languages_url\":\"https://api.github.com/repos/IanXSmith/intel_retail_workshop/languages\",\"stargazers_url\":\"https://api.github.com/repos/IanXSmith/intel_retail_workshop/stargazers\",\"contributors_url\":\"https://api.github.com/repos/IanXSmith/intel_retail_workshop/contributors\",\"subscribers_url\":\"https://api.github.com/repos/IanXSmith/intel_retail_workshop/subscribers\",\"subscription_url\":\"https://api.github.com/repos/IanXSmith/intel_retail_workshop/subscription\",\"commits_url\":\"https://api.github.com/repos/IanXSmith/intel_retail_workshop/commits{/sha}\",\"git_commits_url\":\"https://api.github.com/repos/IanXSmith/intel_retail_workshop/git/commits{/sha}\",\"comments_url\":\"https://api.github.com/repos/IanXSmith/intel_retail_workshop/comments{/number}\",\"issue_comment_url\":\"https://api.github.com/repos/IanXSmith/intel_retail_workshop/issues/comments{/number}\",\"contents_url\":\"https://api.github.com/repos/IanXSmith/intel_retail_workshop/contents/{+path}\",\"compare_url\":\"https://api.github.com/repos/IanXSmith/intel_retail_workshop/compare/{base}...{head}\",\"merges_url\":\"https://api.github.com/repos/IanXSmith/intel_retail_workshop/merges\",\"archive_url\":\"https://api.github.com/repos/IanXSmith/intel_retail_workshop/{archive_format}{/ref}\",\"downloads_url\":\"https://api.github.com/repos/IanXSmith/intel_retail_workshop/downloads\",\"issues_url\":\"https://api.github.com/repos/IanXSmith/intel_retail_workshop/issues{/number}\",\"pulls_url\":\"https://api.github.com/repos/IanXSmith/intel_retail_workshop/pulls{/number}\",\"milestones_url\":\"https://api.github.com/repos/IanXSmith/intel_retail_workshop/milestones{/number}\",\"notifications_url\":\"https://api.github.com/repos/IanXSmith/intel_retail_workshop/notifications{?since,all,participating}\",\"labels_url\":\"https://api.github.com/repos/IanXSmith/intel_retail_workshop/labels{/name}\",\"releases_url\":\"https://api.github.com/repos/IanXSmith/intel_retail_workshop/releases{/id}\",\"deployments_url\":\"https://api.github.com/repos/IanXSmith/intel_retail_workshop/deployments\",\"created_at\":\"2018-10-22T17:24:18Z\",\"updated_at\":\"2018-10-23T18:25:54Z\",\"pushed_at\":\"2018-11-30T23:06:34Z\",\"git_url\":\"git://github.com/IanXSmith/intel_retail_workshop.git\",\"ssh_url\":\"git@github.com:IanXSmith/intel_retail_workshop.git\",\"clone_url\":\"https://github.com/IanXSmith/intel_retail_workshop.git\",\"svn_url\":\"https://github.com/IanXSmith/intel_retail_workshop\",\"homepage\":null,\"size\":151145,\"stargazers_count\":0,\"watchers_count\":0,\"language\":\"JavaScript\",\"has_issues\":false,\"has_projects\":true,\"has_downloads\":true,\"has_wiki\":true,\"has_pages\":false,\"forks_count\":0,\"mirror_url\":null,\"archived\":false,\"open_issues_count\":0,\"license\":null,\"forks\":0,\"open_issues\":0,\"watchers\":0,\"default_branch\":\"master\"}},\"base\":{\"label\":\"SSG-DRD-IOT:lab-retail-workshop-linux\",\"ref\":\"lab-retail-workshop-linux\",\"sha\":\"6726c8fbde5c4a8f29b4ebe60ca51fcb03023b5f\",\"user\":{\"login\":\"SSG-DRD-IOT\",\"id\":12757935,\"node_id\":\"MDEyOk9yZ2FuaXphdGlvbjEyNzU3OTM1\",\"avatar_url\":\"https://avatars0.githubusercontent.com/u/12757935?v=4\",\"gravatar_id\":\"\",\"url\":\"https://api.github.com/users/SSG-DRD-IOT\",\"html_url\":\"https://github.com/SSG-DRD-IOT\",\"followers_url\":\"https://api.github.com/users/SSG-DRD-IOT/followers\",\"following_url\":\"https://api.github.com/users/SSG-DRD-IOT/following{/other_user}\",\"gists_url\":\"https://api.github.com/users/SSG-DRD-IOT/gists{/gist_id}\",\"starred_url\":\"https://api.github.com/users/SSG-DRD-IOT/starred{/owner}{/repo}\",\"subscriptions_url\":\"https://api.github.com/users/SSG-DRD-IOT/subscriptions\",\"organizations_url\":\"https://api.github.com/users/SSG-DRD-IOT/orgs\",\"repos_url\":\"https://api.github.com/users/SSG-DRD-IOT/repos\",\"events_url\":\"https://api.github.com/users/SSG-DRD-IOT/events{/privacy}\",\"received_events_url\":\"https://api.github.com/users/SSG-DRD-IOT/received_events\",\"type\":\"Organization\",\"site_admin\":false},\"repo\":{\"id\":139477412,\"node_id\":\"MDEwOlJlcG9zaXRvcnkxMzk0Nzc0MTI=\",\"name\":\"intel_retail_workshop\",\"full_name\":\"SSG-DRD-IOT/intel_retail_workshop\",\"private\":false,\"owner\":{\"login\":\"SSG-DRD-IOT\",\"id\":12757935,\"node_id\":\"MDEyOk9yZ2FuaXphdGlvbjEyNzU3OTM1\",\"avatar_url\":\"https://avatars0.githubusercontent.com/u/12757935?v=4\",\"gravatar_id\":\"\",\"url\":\"https://api.github.com/users/SSG-DRD-IOT\",\"html_url\":\"https://github.com/SSG-DRD-IOT\",\"followers_url\":\"https://api.github.com/users/SSG-DRD-IOT/followers\",\"following_url\":\"https://api.github.com/users/SSG-DRD-IOT/following{/other_user}\",\"gists_url\":\"https://api.github.com/users/SSG-DRD-IOT/gists{/gist_id}\",\"starred_url\":\"https://api.github.com/users/SSG-DRD-IOT/starred{/owner}{/repo}\",\"subscriptions_url\":\"https://api.github.com/users/SSG-DRD-IOT/subscriptions\",\"organizations_url\":\"https://api.github.com/users/SSG-DRD-IOT/orgs\",\"repos_url\":\"https://api.github.com/users/SSG-DRD-IOT/repos\",\"events_url\":\"https://api.github.com/users/SSG-DRD-IOT/events{/privacy}\",\"received_events_url\":\"https://api.github.com/users/SSG-DRD-IOT/received_events\",\"type\":\"Organization\",\"site_admin\":false},\"html_url\":\"https://github.com/SSG-DRD-IOT/intel_retail_workshop\",\"description\":\"Respository for holding retail workshop content\",\"fork\":false,\"url\":\"https://api.github.com/repos/SSG-DRD-IOT/intel_retail_workshop\",\"forks_url\":\"https://api.github.com/repos/SSG-DRD-IOT/intel_retail_workshop/forks\",\"keys_url\":\"https://api.github.com/repos/SSG-DRD-IOT/intel_retail_workshop/keys{/key_id}\",\"collaborators_url\":\"https://api.github.com/repos/SSG-DRD-IOT/intel_retail_workshop/collaborators{/collaborator}\",\"teams_url\":\"https://api.github.com/repos/SSG-DRD-IOT/intel_retail_workshop/teams\",\"hooks_url\":\"https://api.github.com/repos/SSG-DRD-IOT/intel_retail_workshop/hooks\",\"issue_events_url\":\"https://api.github.com/repos/SSG-DRD-IOT/intel_retail_workshop/issues/events{/number}\",\"events_url\":\"https://api.github.com/repos/SSG-DRD-IOT/intel_retail_workshop/events\",\"assignees_url\":\"https://api.github.com/repos/SSG-DRD-IOT/intel_retail_workshop/assignees{/user}\",\"branches_url\":\"https://api.github.com/repos/SSG-DRD-IOT/intel_retail_workshop/branches{/branch}\",\"tags_url\":\"https://api.github.com/repos/SSG-DRD-IOT/intel_retail_workshop/tags\",\"blobs_url\":\"https://api.github.com/repos/SSG-DRD-IOT/intel_retail_workshop/git/blobs{/sha}\",\"git_tags_url\":\"https://api.github.com/repos/SSG-DRD-IOT/intel_retail_workshop/git/tags{/sha}\",\"git_refs_url\":\"https://api.github.com/repos/SSG-DRD-IOT/intel_retail_workshop/git/refs{/sha}\",\"trees_url\":\"https://api.github.com/repos/SSG-DRD-IOT/intel_retail_workshop/git/trees{/sha}\",\"statuses_url\":\"https://api.github.com/repos/SSG-DRD-IOT/intel_retail_workshop/statuses/{sha}\",\"languages_url\":\"https://api.github.com/repos/SSG-DRD-IOT/intel_retail_workshop/languages\",\"stargazers_url\":\"https://api.github.com/repos/SSG-DRD-IOT/intel_retail_workshop/stargazers\",\"contributors_url\":\"https://api.github.com/repos/SSG-DRD-IOT/intel_retail_workshop/contributors\",\"subscribers_url\":\"https://api.github.com/repos/SSG-DRD-IOT/intel_retail_workshop/subscribers\",\"subscription_url\":\"https://api.github.com/repos/SSG-DRD-IOT/intel_retail_workshop/subscription\",\"commits_url\":\"https://api.github.com/repos/SSG-DRD-IOT/intel_retail_workshop/commits{/sha}\",\"git_commits_url\":\"https://api.github.com/repos/SSG-DRD-IOT/intel_retail_workshop/git/commits{/sha}\",\"comments_url\":\"https://api.github.com/repos/SSG-DRD-IOT/intel_retail_workshop/comments{/number}\",\"issue_comment_url\":\"https://api.github.com/repos/SSG-DRD-IOT/intel_retail_workshop/issues/comments{/number}\",\"contents_url\":\"https://api.github.com/repos/SSG-DRD-IOT/intel_retail_workshop/contents/{+path}\",\"compare_url\":\"https://api.github.com/repos/SSG-DRD-IOT/intel_retail_workshop/compare/{base}...{head}\",\"merges_url\":\"https://api.github.com/repos/SSG-DRD-IOT/intel_retail_workshop/merges\",\"archive_url\":\"https://api.github.com/repos/SSG-DRD-IOT/intel_retail_workshop/{archive_format}{/ref}\",\"downloads_url\":\"https://api.github.com/repos/SSG-DRD-IOT/intel_retail_workshop/downloads\",\"issues_url\":\"https://api.github.com/repos/SSG-DRD-IOT/intel_retail_workshop/issues{/number}\",\"pulls_url\":\"https://api.github.com/repos/SSG-DRD-IOT/intel_retail_workshop/pulls{/number}\",\"milestones_url\":\"https://api.github.com/repos/SSG-DRD-IOT/intel_retail_workshop/milestones{/number}\",\"notifications_url\":\"https://api.github.com/repos/SSG-DRD-IOT/intel_retail_workshop/notifications{?since,all,participating}\",\"labels_url\":\"https://api.github.com/repos/SSG-DRD-IOT/intel_retail_workshop/labels{/name}\",\"releases_url\":\"https://api.github.com/repos/SSG-DRD-IOT/intel_retail_workshop/releases{/id}\",\"deployments_url\":\"https://api.github.com/repos/SSG-DRD-IOT/intel_retail_workshop/deployments\",\"created_at\":\"2018-07-02T18:03:41Z\",\"updated_at\":\"2018-12-03T09:45:38Z\",\"pushed_at\":\"2018-12-03T09:45:52Z\",\"git_url\":\"git://github.com/SSG-DRD-IOT/intel_retail_workshop.git\",\"ssh_url\":\"git@github.com:SSG-DRD-IOT/intel_retail_workshop.git\",\"clone_url\":\"https://github.com/SSG-DRD-IOT/intel_retail_workshop.git\",\"svn_url\":\"https://github.com/SSG-DRD-IOT/intel_retail_workshop\",\"homepage\":null,\"size\":167875,\"stargazers_count\":2,\"watchers_count\":2,\"language\":\"JavaScript\",\"has_issues\":true,\"has_projects\":true,\"has_downloads\":true,\"has_wiki\":true,\"has_pages\":false,\"forks_count\":6,\"mirror_url\":null,\"archived\":false,\"open_issues_count\":1,\"license\":null,\"forks\":6,\"open_issues\":1,\"watchers\":2,\"default_branch\":\"master\"}},\"_links\":{\"self\":{\"href\":\"https://api.github.com/repos/SSG-DRD-IOT/intel_retail_workshop/pulls/9\"},\"html\":{\"href\":\"https://github.com/SSG-DRD-IOT/intel_retail_workshop/pull/9\"},\"issue\":{\"href\":\"https://api.github.com/repos/SSG-DRD-IOT/intel_retail_workshop/issues/9\"},\"comments\":{\"href\":\"https://api.github.com/repos/SSG-DRD-IOT/intel_retail_workshop/issues/9/comments\"},\"review_comments\":{\"href\":\"https://api.github.com/repos/SSG-DRD-IOT/intel_retail_workshop/pulls/9/comments\"},\"review_comment\":{\"href\":\"https://api.github.com/repos/SSG-DRD-IOT/intel_retail_workshop/pulls/comments{/number}\"},\"commits\":{\"href\":\"https://api.github.com/repos/SSG-DRD-IOT/intel_retail_workshop/pulls/9/commits\"},\"statuses\":{\"href\":\"https://api.github.com/repos/SSG-DRD-IOT/intel_retail_workshop/statuses/31bc1055b1d899ed6b5a242f872ce87791d7a39c\"}},\"author_association\":\"CONTRIBUTOR\",\"merged\":true,\"mergeable\":null,\"rebaseable\":null,\"mergeable_state\":\"unknown\",\"merged_by\":{\"login\":\"basantapatra1985\",\"id\":38256832,\"node_id\":\"MDQ6VXNlcjM4MjU2ODMy\",\"avatar_url\":\"https://avatars1.githubusercontent.com/u/38256832?v=4\",\"gravatar_id\":\"\",\"url\":\"https://api.github.com/users/basantapatra1985\",\"html_url\":\"https://github.com/basantapatra1985\",\"followers_url\":\"https://api.github.com/users/basantapatra1985/followers\",\"following_url\":\"https://api.github.com/users/basantapatra1985/following{/other_user}\",\"gists_url\":\"https://api.github.com/users/basantapatra1985/gists{/gist_id}\",\"starred_url\":\"https://api.github.com/users/basantapatra1985/starred{/owner}{/repo}\",\"subscriptions_url\":\"https://api.github.com/users/basantapatra1985/subscriptions\",\"organizations_url\":\"https://api.github.com/users/basantapatra1985/orgs\",\"repos_url\":\"https://api.github.com/users/basantapatra1985/repos\",\"events_url\":\"https://api.github.com/users/basantapatra1985/events{/privacy}\",\"received_events_url\":\"https://api.github.com/users/basantapatra1985/received_events\",\"type\":\"User\",\"site_admin\":false},\"comments\":0,\"review_comments\":0,\"maintainer_can_modify\":false,\"commits\":1,\"additions\":1,\"deletions\":1,\"changed_files\":1}},\"public\":true,\"created_at\":\"2018-12-03T09:46:21Z\",\"org\":{\"id\":12757935,\"login\":\"SSG-DRD-IOT\",\"gravatar_id\":\"\",\"url\":\"https://api.github.com/orgs/SSG-DRD-IOT\",\"avatar_url\":\"https://avatars.githubusercontent.com/u/12757935?\"}},{\"id\":\"8686057515\",\"type\":\"PushEvent\",\"actor\":{\"id\":38256832,\"login\":\"basantapatra1985\",\"display_login\":\"basantapatra1985\",\"gravatar_id\":\"\",\"url\":\"https://api.github.com/users/basantapatra1985\",\"avatar_url\":\"https://avatars.githubusercontent.com/u/38256832?\"},\"repo\":{\"id\":139477412,\"name\":\"SSG-DRD-IOT/intel_retail_workshop\",\"url\":\"https://api.github.com/repos/SSG-DRD-IOT/intel_retail_workshop\"},\"payload\":{\"push_id\":3101395858,\"size\":2,\"distinct_size\":2,\"ref\":\"refs/heads/master\",\"head\":\"cac0b1bdd542ae222cdff867138056658ca47295\",\"before\":\"8be405318fa8bad3d5bd32192c83cd08ef65c9d2\",\"commits\":[{\"sha\":\"b169834bce6ce087b90ad7c746a52c65a59c95b3\",\"author\":{\"email\":\"ianx.smith@intel.com\",\"name\":\"Ian Smith\"},\"message\":\"Title update to correct trademark\",\"distinct\":true,\"url\":\"https://api.github.com/repos/SSG-DRD-IOT/intel_retail_workshop/commits/b169834bce6ce087b90ad7c746a52c65a59c95b3\"},{\"sha\":\"cac0b1bdd542ae222cdff867138056658ca47295\",\"author\":{\"email\":\"38256832+basantapatra1985@users.noreply.github.com\",\"name\":\"basantapatra1985\"},\"message\":\"Merge pull request #8 from IanXSmith/patch-2\\n\\nTitle update to correct trademark\",\"distinct\":true,\"url\":\"https://api.github.com/repos/SSG-DRD-IOT/intel_retail_workshop/commits/cac0b1bdd542ae222cdff867138056658ca47295\"}]},\"public\":true,\"created_at\":\"2018-12-03T09:45:37Z\",\"org\":{\"id\":12757935,\"login\":\"SSG-DRD-IOT\",\"gravatar_id\":\"\",\"url\":\"https://api.github.com/orgs/SSG-DRD-IOT\",\"avatar_url\":\"https://avatars.githubusercontent.com/u/12757935?\"}},{\"id\":\"8686057436\",\"type\":\"PullRequestEvent\",\"actor\":{\"id\":38256832,\"login\":\"basantapatra1985\",\"display_login\":\"basantapatra1985\",\"gravatar_id\":\"\",\"url\":\"https://api.github.com/users/basantapatra1985\",\"avatar_url\":\"https://avatars.githubusercontent.com/u/38256832?\"},\"repo\":{\"id\":139477412,\"name\":\"SSG-DRD-IOT/intel_retail_workshop\",\"url\":\"https://api.github.com/repos/SSG-DRD-IOT/intel_retail_workshop\"},\"payload\":{\"action\":\"closed\",\"number\":8,\"pull_request\":{\"url\":\"https://api.github.com/repos/SSG-DRD-IOT/intel_retail_workshop/pulls/8\",\"id\":235139031,\"node_id\":\"MDExOlB1bGxSZXF1ZXN0MjM1MTM5MDMx\",\"html_url\":\"https://github.com/SSG-DRD-IOT/intel_retail_workshop/pull/8\",\"diff_url\":\"https://github.com/SSG-DRD-IOT/intel_retail_workshop/pull/8.diff\",\"patch_url\":\"https://github.com/SSG-DRD-IOT/intel_retail_workshop/pull/8.patch\",\"issue_url\":\"https://api.github.com/repos/SSG-DRD-IOT/intel_retail_workshop/issues/8\",\"number\":8,\"state\":\"closed\",\"locked\":false,\"title\":\"Title update to correct trademark\",\"user\":{\"login\":\"IanXSmith\",\"id\":20446307,\"node_id\":\"MDQ6VXNlcjIwNDQ2MzA3\",\"avatar_url\":\"https://avatars3.githubusercontent.com/u/20446307?v=4\",\"gravatar_id\":\"\",\"url\":\"https://api.github.com/users/IanXSmith\",\"html_url\":\"https://github.com/IanXSmith\",\"followers_url\":\"https://api.github.com/users/IanXSmith/followers\",\"following_url\":\"https://api.github.com/users/IanXSmith/following{/other_user}\",\"gists_url\":\"https://api.github.com/users/IanXSmith/gists{/gist_id}\",\"starred_url\":\"https://api.github.com/users/IanXSmith/starred{/owner}{/repo}\",\"subscriptions_url\":\"https://api.github.com/users/IanXSmith/subscriptions\",\"organizations_url\":\"https://api.github.com/users/IanXSmith/orgs\",\"repos_url\":\"https://api.github.com/users/IanXSmith/repos\",\"events_url\":\"https://api.github.com/users/IanXSmith/events{/privacy}\",\"received_events_url\":\"https://api.github.com/users/IanXSmith/received_events\",\"type\":\"User\",\"site_admin\":false},\"body\":\"\",\"created_at\":\"2018-11-30T22:54:21Z\",\"updated_at\":\"2018-12-03T09:45:36Z\",\"closed_at\":\"2018-12-03T09:45:36Z\",\"merged_at\":\"2018-12-03T09:45:36Z\",\"merge_commit_sha\":\"cac0b1bdd542ae222cdff867138056658ca47295\",\"assignee\":null,\"assignees\":[],\"requested_reviewers\":[],\"requested_teams\":[],\"labels\":[],\"milestone\":null,\"commits_url\":\"https://api.github.com/repos/SSG-DRD-IOT/intel_retail_workshop/pulls/8/commits\",\"review_comments_url\":\"https://api.github.com/repos/SSG-DRD-IOT/intel_retail_workshop/pulls/8/comments\",\"review_comment_url\":\"https://api.github.com/repos/SSG-DRD-IOT/intel_retail_workshop/pulls/comments{/number}\",\"comments_url\":\"https://api.github.com/repos/SSG-DRD-IOT/intel_retail_workshop/issues/8/comments\",\"statuses_url\":\"https://api.github.com/repos/SSG-DRD-IOT/intel_retail_workshop/statuses/b169834bce6ce087b90ad7c746a52c65a59c95b3\",\"head\":{\"label\":\"IanXSmith:patch-2\",\"ref\":\"patch-2\",\"sha\":\"b169834bce6ce087b90ad7c746a52c65a59c95b3\",\"user\":{\"login\":\"IanXSmith\",\"id\":20446307,\"node_id\":\"MDQ6VXNlcjIwNDQ2MzA3\",\"avatar_url\":\"https://avatars3.githubusercontent.com/u/20446307?v=4\",\"gravatar_id\":\"\",\"url\":\"https://api.github.com/users/IanXSmith\",\"html_url\":\"https://github.com/IanXSmith\",\"followers_url\":\"https://api.github.com/users/IanXSmith/followers\",\"following_url\":\"https://api.github.com/users/IanXSmith/following{/other_user}\",\"gists_url\":\"https://api.github.com/users/IanXSmith/gists{/gist_id}\",\"starred_url\":\"https://api.github.com/users/IanXSmith/starred{/owner}{/repo}\",\"subscriptions_url\":\"https://api.github.com/users/IanXSmith/subscriptions\",\"organizations_url\":\"https://api.github.com/users/IanXSmith/orgs\",\"repos_url\":\"https://api.github.com/users/IanXSmith/repos\",\"events_url\":\"https://api.github.com/users/IanXSmith/events{/privacy}\",\"received_events_url\":\"https://api.github.com/users/IanXSmith/received_events\",\"type\":\"User\",\"site_admin\":false},\"repo\":{\"id\":154185787,\"node_id\":\"MDEwOlJlcG9zaXRvcnkxNTQxODU3ODc=\",\"name\":\"intel_retail_workshop\",\"full_name\":\"IanXSmith/intel_retail_workshop\",\"private\":false,\"owner\":{\"login\":\"IanXSmith\",\"id\":20446307,\"node_id\":\"MDQ6VXNlcjIwNDQ2MzA3\",\"avatar_url\":\"https://avatars3.githubusercontent.com/u/20446307?v=4\",\"gravatar_id\":\"\",\"url\":\"https://api.github.com/users/IanXSmith\",\"html_url\":\"https://github.com/IanXSmith\",\"followers_url\":\"https://api.github.com/users/IanXSmith/followers\",\"following_url\":\"https://api.github.com/users/IanXSmith/following{/other_user}\",\"gists_url\":\"https://api.github.com/users/IanXSmith/gists{/gist_id}\",\"starred_url\":\"https://api.github.com/users/IanXSmith/starred{/owner}{/repo}\",\"subscriptions_url\":\"https://api.github.com/users/IanXSmith/subscriptions\",\"organizations_url\":\"https://api.github.com/users/IanXSmith/orgs\",\"repos_url\":\"https://api.github.com/users/IanXSmith/repos\",\"events_url\":\"https://api.github.com/users/IanXSmith/events{/privacy}\",\"received_events_url\":\"https://api.github.com/users/IanXSmith/received_events\",\"type\":\"User\",\"site_admin\":false},\"html_url\":\"https://github.com/IanXSmith/intel_retail_workshop\",\"description\":\"Respository for holding retail workshop content\",\"fork\":true,\"url\":\"https://api.github.com/repos/IanXSmith/intel_retail_workshop\",\"forks_url\":\"https://api.github.com/repos/IanXSmith/intel_retail_workshop/forks\",\"keys_url\":\"https://api.github.com/repos/IanXSmith/intel_retail_workshop/keys{/key_id}\",\"collaborators_url\":\"https://api.github.com/repos/IanXSmith/intel_retail_workshop/collaborators{/collaborator}\",\"teams_url\":\"https://api.github.com/repos/IanXSmith/intel_retail_workshop/teams\",\"hooks_url\":\"https://api.github.com/repos/IanXSmith/intel_retail_workshop/hooks\",\"issue_events_url\":\"https://api.github.com/repos/IanXSmith/intel_retail_workshop/issues/events{/number}\",\"events_url\":\"https://api.github.com/repos/IanXSmith/intel_retail_workshop/events\",\"assignees_url\":\"https://api.github.com/repos/IanXSmith/intel_retail_workshop/assignees{/user}\",\"branches_url\":\"https://api.github.com/repos/IanXSmith/intel_retail_workshop/branches{/branch}\",\"tags_url\":\"https://api.github.com/repos/IanXSmith/intel_retail_workshop/tags\",\"blobs_url\":\"https://api.github.com/repos/IanXSmith/intel_retail_workshop/git/blobs{/sha}\",\"git_tags_url\":\"https://api.github.com/repos/IanXSmith/intel_retail_workshop/git/tags{/sha}\",\"git_refs_url\":\"https://api.github.com/repos/IanXSmith/intel_retail_workshop/git/refs{/sha}\",\"trees_url\":\"https://api.github.com/repos/IanXSmith/intel_retail_workshop/git/trees{/sha}\",\"statuses_url\":\"https://api.github.com/repos/IanXSmith/intel_retail_workshop/statuses/{sha}\",\"languages_url\":\"https://api.github.com/repos/IanXSmith/intel_retail_workshop/languages\",\"stargazers_url\":\"https://api.github.com/repos/IanXSmith/intel_retail_workshop/stargazers\",\"contributors_url\":\"https://api.github.com/repos/IanXSmith/intel_retail_workshop/contributors\",\"subscribers_url\":\"https://api.github.com/repos/IanXSmith/intel_retail_workshop/subscribers\",\"subscription_url\":\"https://api.github.com/repos/IanXSmith/intel_retail_workshop/subscription\",\"commits_url\":\"https://api.github.com/repos/IanXSmith/intel_retail_workshop/commits{/sha}\",\"git_commits_url\":\"https://api.github.com/repos/IanXSmith/intel_retail_workshop/git/commits{/sha}\",\"comments_url\":\"https://api.github.com/repos/IanXSmith/intel_retail_workshop/comments{/number}\",\"issue_comment_url\":\"https://api.github.com/repos/IanXSmith/intel_retail_workshop/issues/comments{/number}\",\"contents_url\":\"https://api.github.com/repos/IanXSmith/intel_retail_workshop/contents/{+path}\",\"compare_url\":\"https://api.github.com/repos/IanXSmith/intel_retail_workshop/compare/{base}...{head}\",\"merges_url\":\"https://api.github.com/repos/IanXSmith/intel_retail_workshop/merges\",\"archive_url\":\"https://api.github.com/repos/IanXSmith/intel_retail_workshop/{archive_format}{/ref}\",\"downloads_url\":\"https://api.github.com/repos/IanXSmith/intel_retail_workshop/downloads\",\"issues_url\":\"https://api.github.com/repos/IanXSmith/intel_retail_workshop/issues{/number}\",\"pulls_url\":\"https://api.github.com/repos/IanXSmith/intel_retail_workshop/pulls{/number}\",\"milestones_url\":\"https://api.github.com/repos/IanXSmith/intel_retail_workshop/milestones{/number}\",\"notifications_url\":\"https://api.github.com/repos/IanXSmith/intel_retail_workshop/notifications{?since,all,participating}\",\"labels_url\":\"https://api.github.com/repos/IanXSmith/intel_retail_workshop/labels{/name}\",\"releases_url\":\"https://api.github.com/repos/IanXSmith/intel_retail_workshop/releases{/id}\",\"deployments_url\":\"https://api.github.com/repos/IanXSmith/intel_retail_workshop/deployments\",\"created_at\":\"2018-10-22T17:24:18Z\",\"updated_at\":\"2018-10-23T18:25:54Z\",\"pushed_at\":\"2018-11-30T23:06:34Z\",\"git_url\":\"git://github.com/IanXSmith/intel_retail_workshop.git\",\"ssh_url\":\"git@github.com:IanXSmith/intel_retail_workshop.git\",\"clone_url\":\"https://github.com/IanXSmith/intel_retail_workshop.git\",\"svn_url\":\"https://github.com/IanXSmith/intel_retail_workshop\",\"homepage\":null,\"size\":151145,\"stargazers_count\":0,\"watchers_count\":0,\"language\":\"JavaScript\",\"has_issues\":false,\"has_projects\":true,\"has_downloads\":true,\"has_wiki\":true,\"has_pages\":false,\"forks_count\":0,\"mirror_url\":null,\"archived\":false,\"open_issues_count\":0,\"license\":null,\"forks\":0,\"open_issues\":0,\"watchers\":0,\"default_branch\":\"master\"}},\"base\":{\"label\":\"SSG-DRD-IOT:master\",\"ref\":\"master\",\"sha\":\"8be405318fa8bad3d5bd32192c83cd08ef65c9d2\",\"user\":{\"login\":\"SSG-DRD-IOT\",\"id\":12757935,\"node_id\":\"MDEyOk9yZ2FuaXphdGlvbjEyNzU3OTM1\",\"avatar_url\":\"https://avatars0.githubusercontent.com/u/12757935?v=4\",\"gravatar_id\":\"\",\"url\":\"https://api.github.com/users/SSG-DRD-IOT\",\"html_url\":\"https://github.com/SSG-DRD-IOT\",\"followers_url\":\"https://api.github.com/users/SSG-DRD-IOT/followers\",\"following_url\":\"https://api.github.com/users/SSG-DRD-IOT/following{/other_user}\",\"gists_url\":\"https://api.github.com/users/SSG-DRD-IOT/gists{/gist_id}\",\"starred_url\":\"https://api.github.com/users/SSG-DRD-IOT/starred{/owner}{/repo}\",\"subscriptions_url\":\"https://api.github.com/users/SSG-DRD-IOT/subscriptions\",\"organizations_url\":\"https://api.github.com/users/SSG-DRD-IOT/orgs\",\"repos_url\":\"https://api.github.com/users/SSG-DRD-IOT/repos\",\"events_url\":\"https://api.github.com/users/SSG-DRD-IOT/events{/privacy}\",\"received_events_url\":\"https://api.github.com/users/SSG-DRD-IOT/received_events\",\"type\":\"Organization\",\"site_admin\":false},\"repo\":{\"id\":139477412,\"node_id\":\"MDEwOlJlcG9zaXRvcnkxMzk0Nzc0MTI=\",\"name\":\"intel_retail_workshop\",\"full_name\":\"SSG-DRD-IOT/intel_retail_workshop\",\"private\":false,\"owner\":{\"login\":\"SSG-DRD-IOT\",\"id\":12757935,\"node_id\":\"MDEyOk9yZ2FuaXphdGlvbjEyNzU3OTM1\",\"avatar_url\":\"https://avatars0.githubusercontent.com/u/12757935?v=4\",\"gravatar_id\":\"\",\"url\":\"https://api.github.com/users/SSG-DRD-IOT\",\"html_url\":\"https://github.com/SSG-DRD-IOT\",\"followers_url\":\"https://api.github.com/users/SSG-DRD-IOT/followers\",\"following_url\":\"https://api.github.com/users/SSG-DRD-IOT/following{/other_user}\",\"gists_url\":\"https://api.github.com/users/SSG-DRD-IOT/gists{/gist_id}\",\"starred_url\":\"https://api.github.com/users/SSG-DRD-IOT/starred{/owner}{/repo}\",\"subscriptions_url\":\"https://api.github.com/users/SSG-DRD-IOT/subscriptions\",\"organizations_url\":\"https://api.github.com/users/SSG-DRD-IOT/orgs\",\"repos_url\":\"https://api.github.com/users/SSG-DRD-IOT/repos\",\"events_url\":\"https://api.github.com/users/SSG-DRD-IOT/events{/privacy}\",\"received_events_url\":\"https://api.github.com/users/SSG-DRD-IOT/received_events\",\"type\":\"Organization\",\"site_admin\":false},\"html_url\":\"https://github.com/SSG-DRD-IOT/intel_retail_workshop\",\"description\":\"Respository for holding retail workshop content\",\"fork\":false,\"url\":\"https://api.github.com/repos/SSG-DRD-IOT/intel_retail_workshop\",\"forks_url\":\"https://api.github.com/repos/SSG-DRD-IOT/intel_retail_workshop/forks\",\"keys_url\":\"https://api.github.com/repos/SSG-DRD-IOT/intel_retail_workshop/keys{/key_id}\",\"collaborators_url\":\"https://api.github.com/repos/SSG-DRD-IOT/intel_retail_workshop/collaborators{/collaborator}\",\"teams_url\":\"https://api.github.com/repos/SSG-DRD-IOT/intel_retail_workshop/teams\",\"hooks_url\":\"https://api.github.com/repos/SSG-DRD-IOT/intel_retail_workshop/hooks\",\"issue_events_url\":\"https://api.github.com/repos/SSG-DRD-IOT/intel_retail_workshop/issues/events{/number}\",\"events_url\":\"https://api.github.com/repos/SSG-DRD-IOT/intel_retail_workshop/events\",\"assignees_url\":\"https://api.github.com/repos/SSG-DRD-IOT/intel_retail_workshop/assignees{/user}\",\"branches_url\":\"https://api.github.com/repos/SSG-DRD-IOT/intel_retail_workshop/branches{/branch}\",\"tags_url\":\"https://api.github.com/repos/SSG-DRD-IOT/intel_retail_workshop/tags\",\"blobs_url\":\"https://api.github.com/repos/SSG-DRD-IOT/intel_retail_workshop/git/blobs{/sha}\",\"git_tags_url\":\"https://api.github.com/repos/SSG-DRD-IOT/intel_retail_workshop/git/tags{/sha}\",\"git_refs_url\":\"https://api.github.com/repos/SSG-DRD-IOT/intel_retail_workshop/git/refs{/sha}\",\"trees_url\":\"https://api.github.com/repos/SSG-DRD-IOT/intel_retail_workshop/git/trees{/sha}\",\"statuses_url\":\"https://api.github.com/repos/SSG-DRD-IOT/intel_retail_workshop/statuses/{sha}\",\"languages_url\":\"https://api.github.com/repos/SSG-DRD-IOT/intel_retail_workshop/languages\",\"stargazers_url\":\"https://api.github.com/repos/SSG-DRD-IOT/intel_retail_workshop/stargazers\",\"contributors_url\":\"https://api.github.com/repos/SSG-DRD-IOT/intel_retail_workshop/contributors\",\"subscribers_url\":\"https://api.github.com/repos/SSG-DRD-IOT/intel_retail_workshop/subscribers\",\"subscription_url\":\"https://api.github.com/repos/SSG-DRD-IOT/intel_retail_workshop/subscription\",\"commits_url\":\"https://api.github.com/repos/SSG-DRD-IOT/intel_retail_workshop/commits{/sha}\",\"git_commits_url\":\"https://api.github.com/repos/SSG-DRD-IOT/intel_retail_workshop/git/commits{/sha}\",\"comments_url\":\"https://api.github.com/repos/SSG-DRD-IOT/intel_retail_workshop/comments{/number}\",\"issue_comment_url\":\"https://api.github.com/repos/SSG-DRD-IOT/intel_retail_workshop/issues/comments{/number}\",\"contents_url\":\"https://api.github.com/repos/SSG-DRD-IOT/intel_retail_workshop/contents/{+path}\",\"compare_url\":\"https://api.github.com/repos/SSG-DRD-IOT/intel_retail_workshop/compare/{base}...{head}\",\"merges_url\":\"https://api.github.com/repos/SSG-DRD-IOT/intel_retail_workshop/merges\",\"archive_url\":\"https://api.github.com/repos/SSG-DRD-IOT/intel_retail_workshop/{archive_format}{/ref}\",\"downloads_url\":\"https://api.github.com/repos/SSG-DRD-IOT/intel_retail_workshop/downloads\",\"issues_url\":\"https://api.github.com/repos/SSG-DRD-IOT/intel_retail_workshop/issues{/number}\",\"pulls_url\":\"https://api.github.com/repos/SSG-DRD-IOT/intel_retail_workshop/pulls{/number}\",\"milestones_url\":\"https://api.github.com/repos/SSG-DRD-IOT/intel_retail_workshop/milestones{/number}\",\"notifications_url\":\"https://api.github.com/repos/SSG-DRD-IOT/intel_retail_workshop/notifications{?since,all,participating}\",\"labels_url\":\"https://api.github.com/repos/SSG-DRD-IOT/intel_retail_workshop/labels{/name}\",\"releases_url\":\"https://api.github.com/repos/SSG-DRD-IOT/intel_retail_workshop/releases{/id}\",\"deployments_url\":\"https://api.github.com/repos/SSG-DRD-IOT/intel_retail_workshop/deployments\",\"created_at\":\"2018-07-02T18:03:41Z\",\"updated_at\":\"2018-11-22T19:18:21Z\",\"pushed_at\":\"2018-12-03T09:45:36Z\",\"git_url\":\"git://github.com/SSG-DRD-IOT/intel_retail_workshop.git\",\"ssh_url\":\"git@github.com:SSG-DRD-IOT/intel_retail_workshop.git\",\"clone_url\":\"https://github.com/SSG-DRD-IOT/intel_retail_workshop.git\",\"svn_url\":\"https://github.com/SSG-DRD-IOT/intel_retail_workshop\",\"homepage\":null,\"size\":167875,\"stargazers_count\":2,\"watchers_count\":2,\"language\":\"JavaScript\",\"has_issues\":true,\"has_projects\":true,\"has_downloads\":true,\"has_wiki\":true,\"has_pages\":false,\"forks_count\":6,\"mirror_url\":null,\"archived\":false,\"open_issues_count\":2,\"license\":null,\"forks\":6,\"open_issues\":2,\"watchers\":2,\"default_branch\":\"master\"}},\"_links\":{\"self\":{\"href\":\"https://api.github.com/repos/SSG-DRD-IOT/intel_retail_workshop/pulls/8\"},\"html\":{\"href\":\"https://github.com/SSG-DRD-IOT/intel_retail_workshop/pull/8\"},\"issue\":{\"href\":\"https://api.github.com/repos/SSG-DRD-IOT/intel_retail_workshop/issues/8\"},\"comments\":{\"href\":\"https://api.github.com/repos/SSG-DRD-IOT/intel_retail_workshop/issues/8/comments\"},\"review_comments\":{\"href\":\"https://api.github.com/repos/SSG-DRD-IOT/intel_retail_workshop/pulls/8/comments\"},\"review_comment\":{\"href\":\"https://api.github.com/repos/SSG-DRD-IOT/intel_retail_workshop/pulls/comments{/number}\"},\"commits\":{\"href\":\"https://api.github.com/repos/SSG-DRD-IOT/intel_retail_workshop/pulls/8/commits\"},\"statuses\":{\"href\":\"https://api.github.com/repos/SSG-DRD-IOT/intel_retail_workshop/statuses/b169834bce6ce087b90ad7c746a52c65a59c95b3\"}},\"author_association\":\"CONTRIBUTOR\",\"merged\":true,\"mergeable\":null,\"rebaseable\":null,\"mergeable_state\":\"unknown\",\"merged_by\":{\"login\":\"basantapatra1985\",\"id\":38256832,\"node_id\":\"MDQ6VXNlcjM4MjU2ODMy\",\"avatar_url\":\"https://avatars1.githubusercontent.com/u/38256832?v=4\",\"gravatar_id\":\"\",\"url\":\"https://api.github.com/users/basantapatra1985\",\"html_url\":\"https://github.com/basantapatra1985\",\"followers_url\":\"https://api.github.com/users/basantapatra1985/followers\",\"following_url\":\"https://api.github.com/users/basantapatra1985/following{/other_user}\",\"gists_url\":\"https://api.github.com/users/basantapatra1985/gists{/gist_id}\",\"starred_url\":\"https://api.github.com/users/basantapatra1985/starred{/owner}{/repo}\",\"subscriptions_url\":\"https://api.github.com/users/basantapatra1985/subscriptions\",\"organizations_url\":\"https://api.github.com/users/basantapatra1985/orgs\",\"repos_url\":\"https://api.github.com/users/basantapatra1985/repos\",\"events_url\":\"https://api.github.com/users/basantapatra1985/events{/privacy}\",\"received_events_url\":\"https://api.github.com/users/basantapatra1985/received_events\",\"type\":\"User\",\"site_admin\":false},\"comments\":0,\"review_comments\":0,\"maintainer_can_modify\":false,\"commits\":1,\"additions\":3,\"deletions\":3,\"changed_files\":1}},\"public\":true,\"created_at\":\"2018-12-03T09:45:36Z\",\"org\":{\"id\":12757935,\"login\":\"SSG-DRD-IOT\",\"gravatar_id\":\"\",\"url\":\"https://api.github.com/orgs/SSG-DRD-IOT\",\"avatar_url\":\"https://avatars.githubusercontent.com/u/12757935?\"}},{\"id\":\"8679292648\",\"type\":\"PullRequestEvent\",\"actor\":{\"id\":20446307,\"login\":\"IanXSmith\",\"display_login\":\"IanXSmith\",\"gravatar_id\":\"\",\"url\":\"https://api.github.com/users/IanXSmith\",\"avatar_url\":\"https://avatars.githubusercontent.com/u/20446307?\"},\"repo\":{\"id\":139477412,\"name\":\"SSG-DRD-IOT/intel_retail_workshop\",\"url\":\"https://api.github.com/repos/SSG-DRD-IOT/intel_retail_workshop\"},\"payload\":{\"action\":\"opened\",\"number\":9,\"pull_request\":{\"url\":\"https://api.github.com/repos/SSG-DRD-IOT/intel_retail_workshop/pulls/9\",\"id\":235141255,\"node_id\":\"MDExOlB1bGxSZXF1ZXN0MjM1MTQxMjU1\",\"html_url\":\"https://github.com/SSG-DRD-IOT/intel_retail_workshop/pull/9\",\"diff_url\":\"https://github.com/SSG-DRD-IOT/intel_retail_workshop/pull/9.diff\",\"patch_url\":\"https://github.com/SSG-DRD-IOT/intel_retail_workshop/pull/9.patch\",\"issue_url\":\"https://api.github.com/repos/SSG-DRD-IOT/intel_retail_workshop/issues/9\",\"number\":9,\"state\":\"open\",\"locked\":false,\"title\":\"Title trademark updated\",\"user\":{\"login\":\"IanXSmith\",\"id\":20446307,\"node_id\":\"MDQ6VXNlcjIwNDQ2MzA3\",\"avatar_url\":\"https://avatars3.githubusercontent.com/u/20446307?v=4\",\"gravatar_id\":\"\",\"url\":\"https://api.github.com/users/IanXSmith\",\"html_url\":\"https://github.com/IanXSmith\",\"followers_url\":\"https://api.github.com/users/IanXSmith/followers\",\"following_url\":\"https://api.github.com/users/IanXSmith/following{/other_user}\",\"gists_url\":\"https://api.github.com/users/IanXSmith/gists{/gist_id}\",\"starred_url\":\"https://api.github.com/users/IanXSmith/starred{/owner}{/repo}\",\"subscriptions_url\":\"https://api.github.com/users/IanXSmith/subscriptions\",\"organizations_url\":\"https://api.github.com/users/IanXSmith/orgs\",\"repos_url\":\"https://api.github.com/users/IanXSmith/repos\",\"events_url\":\"https://api.github.com/users/IanXSmith/events{/privacy}\",\"received_events_url\":\"https://api.github.com/users/IanXSmith/received_events\",\"type\":\"User\",\"site_admin\":false},\"body\":\"\",\"created_at\":\"2018-11-30T23:06:47Z\",\"updated_at\":\"2018-11-30T23:06:47Z\",\"closed_at\":null,\"merged_at\":null,\"merge_commit_sha\":null,\"assignee\":null,\"assignees\":[],\"requested_reviewers\":[],\"requested_teams\":[],\"labels\":[],\"milestone\":null,\"commits_url\":\"https://api.github.com/repos/SSG-DRD-IOT/intel_retail_workshop/pulls/9/commits\",\"review_comments_url\":\"https://api.github.com/repos/SSG-DRD-IOT/intel_retail_workshop/pulls/9/comments\",\"review_comment_url\":\"https://api.github.com/repos/SSG-DRD-IOT/intel_retail_workshop/pulls/comments{/number}\",\"comments_url\":\"https://api.github.com/repos/SSG-DRD-IOT/intel_retail_workshop/issues/9/comments\",\"statuses_url\":\"https://api.github.com/repos/SSG-DRD-IOT/intel_retail_workshop/statuses/31bc1055b1d899ed6b5a242f872ce87791d7a39c\",\"head\":{\"label\":\"IanXSmith:patch-3\",\"ref\":\"patch-3\",\"sha\":\"31bc1055b1d899ed6b5a242f872ce87791d7a39c\",\"user\":{\"login\":\"IanXSmith\",\"id\":20446307,\"node_id\":\"MDQ6VXNlcjIwNDQ2MzA3\",\"avatar_url\":\"https://avatars3.githubusercontent.com/u/20446307?v=4\",\"gravatar_id\":\"\",\"url\":\"https://api.github.com/users/IanXSmith\",\"html_url\":\"https://github.com/IanXSmith\",\"followers_url\":\"https://api.github.com/users/IanXSmith/followers\",\"following_url\":\"https://api.github.com/users/IanXSmith/following{/other_user}\",\"gists_url\":\"https://api.github.com/users/IanXSmith/gists{/gist_id}\",\"starred_url\":\"https://api.github.com/users/IanXSmith/starred{/owner}{/repo}\",\"subscriptions_url\":\"https://api.github.com/users/IanXSmith/subscriptions\",\"organizations_url\":\"https://api.github.com/users/IanXSmith/orgs\",\"repos_url\":\"https://api.github.com/users/IanXSmith/repos\",\"events_url\":\"https://api.github.com/users/IanXSmith/events{/privacy}\",\"received_events_url\":\"https://api.github.com/users/IanXSmith/received_events\",\"type\":\"User\",\"site_admin\":false},\"repo\":{\"id\":154185787,\"node_id\":\"MDEwOlJlcG9zaXRvcnkxNTQxODU3ODc=\",\"name\":\"intel_retail_workshop\",\"full_name\":\"IanXSmith/intel_retail_workshop\",\"private\":false,\"owner\":{\"login\":\"IanXSmith\",\"id\":20446307,\"node_id\":\"MDQ6VXNlcjIwNDQ2MzA3\",\"avatar_url\":\"https://avatars3.githubusercontent.com/u/20446307?v=4\",\"gravatar_id\":\"\",\"url\":\"https://api.github.com/users/IanXSmith\",\"html_url\":\"https://github.com/IanXSmith\",\"followers_url\":\"https://api.github.com/users/IanXSmith/followers\",\"following_url\":\"https://api.github.com/users/IanXSmith/following{/other_user}\",\"gists_url\":\"https://api.github.com/users/IanXSmith/gists{/gist_id}\",\"starred_url\":\"https://api.github.com/users/IanXSmith/starred{/owner}{/repo}\",\"subscriptions_url\":\"https://api.github.com/users/IanXSmith/subscriptions\",\"organizations_url\":\"https://api.github.com/users/IanXSmith/orgs\",\"repos_url\":\"https://api.github.com/users/IanXSmith/repos\",\"events_url\":\"https://api.github.com/users/IanXSmith/events{/privacy}\",\"received_events_url\":\"https://api.github.com/users/IanXSmith/received_events\",\"type\":\"User\",\"site_admin\":false},\"html_url\":\"https://github.com/IanXSmith/intel_retail_workshop\",\"description\":\"Respository for holding retail workshop content\",\"fork\":true,\"url\":\"https://api.github.com/repos/IanXSmith/intel_retail_workshop\",\"forks_url\":\"https://api.github.com/repos/IanXSmith/intel_retail_workshop/forks\",\"keys_url\":\"https://api.github.com/repos/IanXSmith/intel_retail_workshop/keys{/key_id}\",\"collaborators_url\":\"https://api.github.com/repos/IanXSmith/intel_retail_workshop/collaborators{/collaborator}\",\"teams_url\":\"https://api.github.com/repos/IanXSmith/intel_retail_workshop/teams\",\"hooks_url\":\"https://api.github.com/repos/IanXSmith/intel_retail_workshop/hooks\",\"issue_events_url\":\"https://api.github.com/repos/IanXSmith/intel_retail_workshop/issues/events{/number}\",\"events_url\":\"https://api.github.com/repos/IanXSmith/intel_retail_workshop/events\",\"assignees_url\":\"https://api.github.com/repos/IanXSmith/intel_retail_workshop/assignees{/user}\",\"branches_url\":\"https://api.github.com/repos/IanXSmith/intel_retail_workshop/branches{/branch}\",\"tags_url\":\"https://api.github.com/repos/IanXSmith/intel_retail_workshop/tags\",\"blobs_url\":\"https://api.github.com/repos/IanXSmith/intel_retail_workshop/git/blobs{/sha}\",\"git_tags_url\":\"https://api.github.com/repos/IanXSmith/intel_retail_workshop/git/tags{/sha}\",\"git_refs_url\":\"https://api.github.com/repos/IanXSmith/intel_retail_workshop/git/refs{/sha}\",\"trees_url\":\"https://api.github.com/repos/IanXSmith/intel_retail_workshop/git/trees{/sha}\",\"statuses_url\":\"https://api.github.com/repos/IanXSmith/intel_retail_workshop/statuses/{sha}\",\"languages_url\":\"https://api.github.com/repos/IanXSmith/intel_retail_workshop/languages\",\"stargazers_url\":\"https://api.github.com/repos/IanXSmith/intel_retail_workshop/stargazers\",\"contributors_url\":\"https://api.github.com/repos/IanXSmith/intel_retail_workshop/contributors\",\"subscribers_url\":\"https://api.github.com/repos/IanXSmith/intel_retail_workshop/subscribers\",\"subscription_url\":\"https://api.github.com/repos/IanXSmith/intel_retail_workshop/subscription\",\"commits_url\":\"https://api.github.com/repos/IanXSmith/intel_retail_workshop/commits{/sha}\",\"git_commits_url\":\"https://api.github.com/repos/IanXSmith/intel_retail_workshop/git/commits{/sha}\",\"comments_url\":\"https://api.github.com/repos/IanXSmith/intel_retail_workshop/comments{/number}\",\"issue_comment_url\":\"https://api.github.com/repos/IanXSmith/intel_retail_workshop/issues/comments{/number}\",\"contents_url\":\"https://api.github.com/repos/IanXSmith/intel_retail_workshop/contents/{+path}\",\"compare_url\":\"https://api.github.com/repos/IanXSmith/intel_retail_workshop/compare/{base}...{head}\",\"merges_url\":\"https://api.github.com/repos/IanXSmith/intel_retail_workshop/merges\",\"archive_url\":\"https://api.github.com/repos/IanXSmith/intel_retail_workshop/{archive_format}{/ref}\",\"downloads_url\":\"https://api.github.com/repos/IanXSmith/intel_retail_workshop/downloads\",\"issues_url\":\"https://api.github.com/repos/IanXSmith/intel_retail_workshop/issues{/number}\",\"pulls_url\":\"https://api.github.com/repos/IanXSmith/intel_retail_workshop/pulls{/number}\",\"milestones_url\":\"https://api.github.com/repos/IanXSmith/intel_retail_workshop/milestones{/number}\",\"notifications_url\":\"https://api.github.com/repos/IanXSmith/intel_retail_workshop/notifications{?since,all,participating}\",\"labels_url\":\"https://api.github.com/repos/IanXSmith/intel_retail_workshop/labels{/name}\",\"releases_url\":\"https://api.github.com/repos/IanXSmith/intel_retail_workshop/releases{/id}\",\"deployments_url\":\"https://api.github.com/repos/IanXSmith/intel_retail_workshop/deployments\",\"created_at\":\"2018-10-22T17:24:18Z\",\"updated_at\":\"2018-10-23T18:25:54Z\",\"pushed_at\":\"2018-11-30T23:06:34Z\",\"git_url\":\"git://github.com/IanXSmith/intel_retail_workshop.git\",\"ssh_url\":\"git@github.com:IanXSmith/intel_retail_workshop.git\",\"clone_url\":\"https://github.com/IanXSmith/intel_retail_workshop.git\",\"svn_url\":\"https://github.com/IanXSmith/intel_retail_workshop\",\"homepage\":null,\"size\":150720,\"stargazers_count\":0,\"watchers_count\":0,\"language\":\"JavaScript\",\"has_issues\":false,\"has_projects\":true,\"has_downloads\":true,\"has_wiki\":true,\"has_pages\":false,\"forks_count\":0,\"mirror_url\":null,\"archived\":false,\"open_issues_count\":0,\"license\":null,\"forks\":0,\"open_issues\":0,\"watchers\":0,\"default_branch\":\"master\"}},\"base\":{\"label\":\"SSG-DRD-IOT:lab-retail-workshop-linux\",\"ref\":\"lab-retail-workshop-linux\",\"sha\":\"6726c8fbde5c4a8f29b4ebe60ca51fcb03023b5f\",\"user\":{\"login\":\"SSG-DRD-IOT\",\"id\":12757935,\"node_id\":\"MDEyOk9yZ2FuaXphdGlvbjEyNzU3OTM1\",\"avatar_url\":\"https://avatars0.githubusercontent.com/u/12757935?v=4\",\"gravatar_id\":\"\",\"url\":\"https://api.github.com/users/SSG-DRD-IOT\",\"html_url\":\"https://github.com/SSG-DRD-IOT\",\"followers_url\":\"https://api.github.com/users/SSG-DRD-IOT/followers\",\"following_url\":\"https://api.github.com/users/SSG-DRD-IOT/following{/other_user}\",\"gists_url\":\"https://api.github.com/users/SSG-DRD-IOT/gists{/gist_id}\",\"starred_url\":\"https://api.github.com/users/SSG-DRD-IOT/starred{/owner}{/repo}\",\"subscriptions_url\":\"https://api.github.com/users/SSG-DRD-IOT/subscriptions\",\"organizations_url\":\"https://api.github.com/users/SSG-DRD-IOT/orgs\",\"repos_url\":\"https://api.github.com/users/SSG-DRD-IOT/repos\",\"events_url\":\"https://api.github.com/users/SSG-DRD-IOT/events{/privacy}\",\"received_events_url\":\"https://api.github.com/users/SSG-DRD-IOT/received_events\",\"type\":\"Organization\",\"site_admin\":false},\"repo\":{\"id\":139477412,\"node_id\":\"MDEwOlJlcG9zaXRvcnkxMzk0Nzc0MTI=\",\"name\":\"intel_retail_workshop\",\"full_name\":\"SSG-DRD-IOT/intel_retail_workshop\",\"private\":false,\"owner\":{\"login\":\"SSG-DRD-IOT\",\"id\":12757935,\"node_id\":\"MDEyOk9yZ2FuaXphdGlvbjEyNzU3OTM1\",\"avatar_url\":\"https://avatars0.githubusercontent.com/u/12757935?v=4\",\"gravatar_id\":\"\",\"url\":\"https://api.github.com/users/SSG-DRD-IOT\",\"html_url\":\"https://github.com/SSG-DRD-IOT\",\"followers_url\":\"https://api.github.com/users/SSG-DRD-IOT/followers\",\"following_url\":\"https://api.github.com/users/SSG-DRD-IOT/following{/other_user}\",\"gists_url\":\"https://api.github.com/users/SSG-DRD-IOT/gists{/gist_id}\",\"starred_url\":\"https://api.github.com/users/SSG-DRD-IOT/starred{/owner}{/repo}\",\"subscriptions_url\":\"https://api.github.com/users/SSG-DRD-IOT/subscriptions\",\"organizations_url\":\"https://api.github.com/users/SSG-DRD-IOT/orgs\",\"repos_url\":\"https://api.github.com/users/SSG-DRD-IOT/repos\",\"events_url\":\"https://api.github.com/users/SSG-DRD-IOT/events{/privacy}\",\"received_events_url\":\"https://api.github.com/users/SSG-DRD-IOT/received_events\",\"type\":\"Organization\",\"site_admin\":false},\"html_url\":\"https://github.com/SSG-DRD-IOT/intel_retail_workshop\",\"description\":\"Respository for holding retail workshop content\",\"fork\":false,\"url\":\"https://api.github.com/repos/SSG-DRD-IOT/intel_retail_workshop\",\"forks_url\":\"https://api.github.com/repos/SSG-DRD-IOT/intel_retail_workshop/forks\",\"keys_url\":\"https://api.github.com/repos/SSG-DRD-IOT/intel_retail_workshop/keys{/key_id}\",\"collaborators_url\":\"https://api.github.com/repos/SSG-DRD-IOT/intel_retail_workshop/collaborators{/collaborator}\",\"teams_url\":\"https://api.github.com/repos/SSG-DRD-IOT/intel_retail_workshop/teams\",\"hooks_url\":\"https://api.github.com/repos/SSG-DRD-IOT/intel_retail_workshop/hooks\",\"issue_events_url\":\"https://api.github.com/repos/SSG-DRD-IOT/intel_retail_workshop/issues/events{/number}\",\"events_url\":\"https://api.github.com/repos/SSG-DRD-IOT/intel_retail_workshop/events\",\"assignees_url\":\"https://api.github.com/repos/SSG-DRD-IOT/intel_retail_workshop/assignees{/user}\",\"branches_url\":\"https://api.github.com/repos/SSG-DRD-IOT/intel_retail_workshop/branches{/branch}\",\"tags_url\":\"https://api.github.com/repos/SSG-DRD-IOT/intel_retail_workshop/tags\",\"blobs_url\":\"https://api.github.com/repos/SSG-DRD-IOT/intel_retail_workshop/git/blobs{/sha}\",\"git_tags_url\":\"https://api.github.com/repos/SSG-DRD-IOT/intel_retail_workshop/git/tags{/sha}\",\"git_refs_url\":\"https://api.github.com/repos/SSG-DRD-IOT/intel_retail_workshop/git/refs{/sha}\",\"trees_url\":\"https://api.github.com/repos/SSG-DRD-IOT/intel_retail_workshop/git/trees{/sha}\",\"statuses_url\":\"https://api.github.com/repos/SSG-DRD-IOT/intel_retail_workshop/statuses/{sha}\",\"languages_url\":\"https://api.github.com/repos/SSG-DRD-IOT/intel_retail_workshop/languages\",\"stargazers_url\":\"https://api.github.com/repos/SSG-DRD-IOT/intel_retail_workshop/stargazers\",\"contributors_url\":\"https://api.github.com/repos/SSG-DRD-IOT/intel_retail_workshop/contributors\",\"subscribers_url\":\"https://api.github.com/repos/SSG-DRD-IOT/intel_retail_workshop/subscribers\",\"subscription_url\":\"https://api.github.com/repos/SSG-DRD-IOT/intel_retail_workshop/subscription\",\"commits_url\":\"https://api.github.com/repos/SSG-DRD-IOT/intel_retail_workshop/commits{/sha}\",\"git_commits_url\":\"https://api.github.com/repos/SSG-DRD-IOT/intel_retail_workshop/git/commits{/sha}\",\"comments_url\":\"https://api.github.com/repos/SSG-DRD-IOT/intel_retail_workshop/comments{/number}\",\"issue_comment_url\":\"https://api.github.com/repos/SSG-DRD-IOT/intel_retail_workshop/issues/comments{/number}\",\"contents_url\":\"https://api.github.com/repos/SSG-DRD-IOT/intel_retail_workshop/contents/{+path}\",\"compare_url\":\"https://api.github.com/repos/SSG-DRD-IOT/intel_retail_workshop/compare/{base}...{head}\",\"merges_url\":\"https://api.github.com/repos/SSG-DRD-IOT/intel_retail_workshop/merges\",\"archive_url\":\"https://api.github.com/repos/SSG-DRD-IOT/intel_retail_workshop/{archive_format}{/ref}\",\"downloads_url\":\"https://api.github.com/repos/SSG-DRD-IOT/intel_retail_workshop/downloads\",\"issues_url\":\"https://api.github.com/repos/SSG-DRD-IOT/intel_retail_workshop/issues{/number}\",\"pulls_url\":\"https://api.github.com/repos/SSG-DRD-IOT/intel_retail_workshop/pulls{/number}\",\"milestones_url\":\"https://api.github.com/repos/SSG-DRD-IOT/intel_retail_workshop/milestones{/number}\",\"notifications_url\":\"https://api.github.com/repos/SSG-DRD-IOT/intel_retail_workshop/notifications{?since,all,participating}\",\"labels_url\":\"https://api.github.com/repos/SSG-DRD-IOT/intel_retail_workshop/labels{/name}\",\"releases_url\":\"https://api.github.com/repos/SSG-DRD-IOT/intel_retail_workshop/releases{/id}\",\"deployments_url\":\"https://api.github.com/repos/SSG-DRD-IOT/intel_retail_workshop/deployments\",\"created_at\":\"2018-07-02T18:03:41Z\",\"updated_at\":\"2018-11-22T19:18:21Z\",\"pushed_at\":\"2018-11-30T22:54:22Z\",\"git_url\":\"git://github.com/SSG-DRD-IOT/intel_retail_workshop.git\",\"ssh_url\":\"git@github.com:SSG-DRD-IOT/intel_retail_workshop.git\",\"clone_url\":\"https://github.com/SSG-DRD-IOT/intel_retail_workshop.git\",\"svn_url\":\"https://github.com/SSG-DRD-IOT/intel_retail_workshop\",\"homepage\":null,\"size\":167875,\"stargazers_count\":2,\"watchers_count\":2,\"language\":\"JavaScript\",\"has_issues\":true,\"has_projects\":true,\"has_downloads\":true,\"has_wiki\":true,\"has_pages\":false,\"forks_count\":6,\"mirror_url\":null,\"archived\":false,\"open_issues_count\":3,\"license\":null,\"forks\":6,\"open_issues\":3,\"watchers\":2,\"default_branch\":\"master\"}},\"_links\":{\"self\":{\"href\":\"https://api.github.com/repos/SSG-DRD-IOT/intel_retail_workshop/pulls/9\"},\"html\":{\"href\":\"https://github.com/SSG-DRD-IOT/intel_retail_workshop/pull/9\"},\"issue\":{\"href\":\"https://api.github.com/repos/SSG-DRD-IOT/intel_retail_workshop/issues/9\"},\"comments\":{\"href\":\"https://api.github.com/repos/SSG-DRD-IOT/intel_retail_workshop/issues/9/comments\"},\"review_comments\":{\"href\":\"https://api.github.com/repos/SSG-DRD-IOT/intel_retail_workshop/pulls/9/comments\"},\"review_comment\":{\"href\":\"https://api.github.com/repos/SSG-DRD-IOT/intel_retail_workshop/pulls/comments{/number}\"},\"commits\":{\"href\":\"https://api.github.com/repos/SSG-DRD-IOT/intel_retail_workshop/pulls/9/commits\"},\"statuses\":{\"href\":\"https://api.github.com/repos/SSG-DRD-IOT/intel_retail_workshop/statuses/31bc1055b1d899ed6b5a242f872ce87791d7a39c\"}},\"author_association\":\"CONTRIBUTOR\",\"merged\":false,\"mergeable\":null,\"rebaseable\":null,\"mergeable_state\":\"unknown\",\"merged_by\":null,\"comments\":0,\"review_comments\":0,\"maintainer_can_modify\":true,\"commits\":1,\"additions\":1,\"deletions\":1,\"changed_files\":1}},\"public\":true,\"created_at\":\"2018-11-30T23:06:47Z\",\"org\":{\"id\":12757935,\"login\":\"SSG-DRD-IOT\",\"gravatar_id\":\"\",\"url\":\"https://api.github.com/orgs/SSG-DRD-IOT\",\"avatar_url\":\"https://avatars.githubusercontent.com/u/12757935?\"}},{\"id\":\"8679245753\",\"type\":\"PullRequestEvent\",\"actor\":{\"id\":20446307,\"login\":\"IanXSmith\",\"display_login\":\"IanXSmith\",\"gravatar_id\":\"\",\"url\":\"https://api.github.com/users/IanXSmith\",\"avatar_url\":\"https://avatars.githubusercontent.com/u/20446307?\"},\"repo\":{\"id\":139477412,\"name\":\"SSG-DRD-IOT/intel_retail_workshop\",\"url\":\"https://api.github.com/repos/SSG-DRD-IOT/intel_retail_workshop\"},\"payload\":{\"action\":\"opened\",\"number\":8,\"pull_request\":{\"url\":\"https://api.github.com/repos/SSG-DRD-IOT/intel_retail_workshop/pulls/8\",\"id\":235139031,\"node_id\":\"MDExOlB1bGxSZXF1ZXN0MjM1MTM5MDMx\",\"html_url\":\"https://github.com/SSG-DRD-IOT/intel_retail_workshop/pull/8\",\"diff_url\":\"https://github.com/SSG-DRD-IOT/intel_retail_workshop/pull/8.diff\",\"patch_url\":\"https://github.com/SSG-DRD-IOT/intel_retail_workshop/pull/8.patch\",\"issue_url\":\"https://api.github.com/repos/SSG-DRD-IOT/intel_retail_workshop/issues/8\",\"number\":8,\"state\":\"open\",\"locked\":false,\"title\":\"Title update to correct trademark\",\"user\":{\"login\":\"IanXSmith\",\"id\":20446307,\"node_id\":\"MDQ6VXNlcjIwNDQ2MzA3\",\"avatar_url\":\"https://avatars3.githubusercontent.com/u/20446307?v=4\",\"gravatar_id\":\"\",\"url\":\"https://api.github.com/users/IanXSmith\",\"html_url\":\"https://github.com/IanXSmith\",\"followers_url\":\"https://api.github.com/users/IanXSmith/followers\",\"following_url\":\"https://api.github.com/users/IanXSmith/following{/other_user}\",\"gists_url\":\"https://api.github.com/users/IanXSmith/gists{/gist_id}\",\"starred_url\":\"https://api.github.com/users/IanXSmith/starred{/owner}{/repo}\",\"subscriptions_url\":\"https://api.github.com/users/IanXSmith/subscriptions\",\"organizations_url\":\"https://api.github.com/users/IanXSmith/orgs\",\"repos_url\":\"https://api.github.com/users/IanXSmith/repos\",\"events_url\":\"https://api.github.com/users/IanXSmith/events{/privacy}\",\"received_events_url\":\"https://api.github.com/users/IanXSmith/received_events\",\"type\":\"User\",\"site_admin\":false},\"body\":\"\",\"created_at\":\"2018-11-30T22:54:21Z\",\"updated_at\":\"2018-11-30T22:54:21Z\",\"closed_at\":null,\"merged_at\":null,\"merge_commit_sha\":null,\"assignee\":null,\"assignees\":[],\"requested_reviewers\":[],\"requested_teams\":[],\"labels\":[],\"milestone\":null,\"commits_url\":\"https://api.github.com/repos/SSG-DRD-IOT/intel_retail_workshop/pulls/8/commits\",\"review_comments_url\":\"https://api.github.com/repos/SSG-DRD-IOT/intel_retail_workshop/pulls/8/comments\",\"review_comment_url\":\"https://api.github.com/repos/SSG-DRD-IOT/intel_retail_workshop/pulls/comments{/number}\",\"comments_url\":\"https://api.github.com/repos/SSG-DRD-IOT/intel_retail_workshop/issues/8/comments\",\"statuses_url\":\"https://api.github.com/repos/SSG-DRD-IOT/intel_retail_workshop/statuses/b169834bce6ce087b90ad7c746a52c65a59c95b3\",\"head\":{\"label\":\"IanXSmith:patch-2\",\"ref\":\"patch-2\",\"sha\":\"b169834bce6ce087b90ad7c746a52c65a59c95b3\",\"user\":{\"login\":\"IanXSmith\",\"id\":20446307,\"node_id\":\"MDQ6VXNlcjIwNDQ2MzA3\",\"avatar_url\":\"https://avatars3.githubusercontent.com/u/20446307?v=4\",\"gravatar_id\":\"\",\"url\":\"https://api.github.com/users/IanXSmith\",\"html_url\":\"https://github.com/IanXSmith\",\"followers_url\":\"https://api.github.com/users/IanXSmith/followers\",\"following_url\":\"https://api.github.com/users/IanXSmith/following{/other_user}\",\"gists_url\":\"https://api.github.com/users/IanXSmith/gists{/gist_id}\",\"starred_url\":\"https://api.github.com/users/IanXSmith/starred{/owner}{/repo}\",\"subscriptions_url\":\"https://api.github.com/users/IanXSmith/subscriptions\",\"organizations_url\":\"https://api.github.com/users/IanXSmith/orgs\",\"repos_url\":\"https://api.github.com/users/IanXSmith/repos\",\"events_url\":\"https://api.github.com/users/IanXSmith/events{/privacy}\",\"received_events_url\":\"https://api.github.com/users/IanXSmith/received_events\",\"type\":\"User\",\"site_admin\":false},\"repo\":{\"id\":154185787,\"node_id\":\"MDEwOlJlcG9zaXRvcnkxNTQxODU3ODc=\",\"name\":\"intel_retail_workshop\",\"full_name\":\"IanXSmith/intel_retail_workshop\",\"private\":false,\"owner\":{\"login\":\"IanXSmith\",\"id\":20446307,\"node_id\":\"MDQ6VXNlcjIwNDQ2MzA3\",\"avatar_url\":\"https://avatars3.githubusercontent.com/u/20446307?v=4\",\"gravatar_id\":\"\",\"url\":\"https://api.github.com/users/IanXSmith\",\"html_url\":\"https://github.com/IanXSmith\",\"followers_url\":\"https://api.github.com/users/IanXSmith/followers\",\"following_url\":\"https://api.github.com/users/IanXSmith/following{/other_user}\",\"gists_url\":\"https://api.github.com/users/IanXSmith/gists{/gist_id}\",\"starred_url\":\"https://api.github.com/users/IanXSmith/starred{/owner}{/repo}\",\"subscriptions_url\":\"https://api.github.com/users/IanXSmith/subscriptions\",\"organizations_url\":\"https://api.github.com/users/IanXSmith/orgs\",\"repos_url\":\"https://api.github.com/users/IanXSmith/repos\",\"events_url\":\"https://api.github.com/users/IanXSmith/events{/privacy}\",\"received_events_url\":\"https://api.github.com/users/IanXSmith/received_events\",\"type\":\"User\",\"site_admin\":false},\"html_url\":\"https://github.com/IanXSmith/intel_retail_workshop\",\"description\":\"Respository for holding retail workshop content\",\"fork\":true,\"url\":\"https://api.github.com/repos/IanXSmith/intel_retail_workshop\",\"forks_url\":\"https://api.github.com/repos/IanXSmith/intel_retail_workshop/forks\",\"keys_url\":\"https://api.github.com/repos/IanXSmith/intel_retail_workshop/keys{/key_id}\",\"collaborators_url\":\"https://api.github.com/repos/IanXSmith/intel_retail_workshop/collaborators{/collaborator}\",\"teams_url\":\"https://api.github.com/repos/IanXSmith/intel_retail_workshop/teams\",\"hooks_url\":\"https://api.github.com/repos/IanXSmith/intel_retail_workshop/hooks\",\"issue_events_url\":\"https://api.github.com/repos/IanXSmith/intel_retail_workshop/issues/events{/number}\",\"events_url\":\"https://api.github.com/repos/IanXSmith/intel_retail_workshop/events\",\"assignees_url\":\"https://api.github.com/repos/IanXSmith/intel_retail_workshop/assignees{/user}\",\"branches_url\":\"https://api.github.com/repos/IanXSmith/intel_retail_workshop/branches{/branch}\",\"tags_url\":\"https://api.github.com/repos/IanXSmith/intel_retail_workshop/tags\",\"blobs_url\":\"https://api.github.com/repos/IanXSmith/intel_retail_workshop/git/blobs{/sha}\",\"git_tags_url\":\"https://api.github.com/repos/IanXSmith/intel_retail_workshop/git/tags{/sha}\",\"git_refs_url\":\"https://api.github.com/repos/IanXSmith/intel_retail_workshop/git/refs{/sha}\",\"trees_url\":\"https://api.github.com/repos/IanXSmith/intel_retail_workshop/git/trees{/sha}\",\"statuses_url\":\"https://api.github.com/repos/IanXSmith/intel_retail_workshop/statuses/{sha}\",\"languages_url\":\"https://api.github.com/repos/IanXSmith/intel_retail_workshop/languages\",\"stargazers_url\":\"https://api.github.com/repos/IanXSmith/intel_retail_workshop/stargazers\",\"contributors_url\":\"https://api.github.com/repos/IanXSmith/intel_retail_workshop/contributors\",\"subscribers_url\":\"https://api.github.com/repos/IanXSmith/intel_retail_workshop/subscribers\",\"subscription_url\":\"https://api.github.com/repos/IanXSmith/intel_retail_workshop/subscription\",\"commits_url\":\"https://api.github.com/repos/IanXSmith/intel_retail_workshop/commits{/sha}\",\"git_commits_url\":\"https://api.github.com/repos/IanXSmith/intel_retail_workshop/git/commits{/sha}\",\"comments_url\":\"https://api.github.com/repos/IanXSmith/intel_retail_workshop/comments{/number}\",\"issue_comment_url\":\"https://api.github.com/repos/IanXSmith/intel_retail_workshop/issues/comments{/number}\",\"contents_url\":\"https://api.github.com/repos/IanXSmith/intel_retail_workshop/contents/{+path}\",\"compare_url\":\"https://api.github.com/repos/IanXSmith/intel_retail_workshop/compare/{base}...{head}\",\"merges_url\":\"https://api.github.com/repos/IanXSmith/intel_retail_workshop/merges\",\"archive_url\":\"https://api.github.com/repos/IanXSmith/intel_retail_workshop/{archive_format}{/ref}\",\"downloads_url\":\"https://api.github.com/repos/IanXSmith/intel_retail_workshop/downloads\",\"issues_url\":\"https://api.github.com/repos/IanXSmith/intel_retail_workshop/issues{/number}\",\"pulls_url\":\"https://api.github.com/repos/IanXSmith/intel_retail_workshop/pulls{/number}\",\"milestones_url\":\"https://api.github.com/repos/IanXSmith/intel_retail_workshop/milestones{/number}\",\"notifications_url\":\"https://api.github.com/repos/IanXSmith/intel_retail_workshop/notifications{?since,all,participating}\",\"labels_url\":\"https://api.github.com/repos/IanXSmith/intel_retail_workshop/labels{/name}\",\"releases_url\":\"https://api.github.com/repos/IanXSmith/intel_retail_workshop/releases{/id}\",\"deployments_url\":\"https://api.github.com/repos/IanXSmith/intel_retail_workshop/deployments\",\"created_at\":\"2018-10-22T17:24:18Z\",\"updated_at\":\"2018-10-23T18:25:54Z\",\"pushed_at\":\"2018-11-30T22:54:06Z\",\"git_url\":\"git://github.com/IanXSmith/intel_retail_workshop.git\",\"ssh_url\":\"git@github.com:IanXSmith/intel_retail_workshop.git\",\"clone_url\":\"https://github.com/IanXSmith/intel_retail_workshop.git\",\"svn_url\":\"https://github.com/IanXSmith/intel_retail_workshop\",\"homepage\":null,\"size\":150720,\"stargazers_count\":0,\"watchers_count\":0,\"language\":\"JavaScript\",\"has_issues\":false,\"has_projects\":true,\"has_downloads\":true,\"has_wiki\":true,\"has_pages\":false,\"forks_count\":0,\"mirror_url\":null,\"archived\":false,\"open_issues_count\":0,\"license\":null,\"forks\":0,\"open_issues\":0,\"watchers\":0,\"default_branch\":\"master\"}},\"base\":{\"label\":\"SSG-DRD-IOT:master\",\"ref\":\"master\",\"sha\":\"8be405318fa8bad3d5bd32192c83cd08ef65c9d2\",\"user\":{\"login\":\"SSG-DRD-IOT\",\"id\":12757935,\"node_id\":\"MDEyOk9yZ2FuaXphdGlvbjEyNzU3OTM1\",\"avatar_url\":\"https://avatars0.githubusercontent.com/u/12757935?v=4\",\"gravatar_id\":\"\",\"url\":\"https://api.github.com/users/SSG-DRD-IOT\",\"html_url\":\"https://github.com/SSG-DRD-IOT\",\"followers_url\":\"https://api.github.com/users/SSG-DRD-IOT/followers\",\"following_url\":\"https://api.github.com/users/SSG-DRD-IOT/following{/other_user}\",\"gists_url\":\"https://api.github.com/users/SSG-DRD-IOT/gists{/gist_id}\",\"starred_url\":\"https://api.github.com/users/SSG-DRD-IOT/starred{/owner}{/repo}\",\"subscriptions_url\":\"https://api.github.com/users/SSG-DRD-IOT/subscriptions\",\"organizations_url\":\"https://api.github.com/users/SSG-DRD-IOT/orgs\",\"repos_url\":\"https://api.github.com/users/SSG-DRD-IOT/repos\",\"events_url\":\"https://api.github.com/users/SSG-DRD-IOT/events{/privacy}\",\"received_events_url\":\"https://api.github.com/users/SSG-DRD-IOT/received_events\",\"type\":\"Organization\",\"site_admin\":false},\"repo\":{\"id\":139477412,\"node_id\":\"MDEwOlJlcG9zaXRvcnkxMzk0Nzc0MTI=\",\"name\":\"intel_retail_workshop\",\"full_name\":\"SSG-DRD-IOT/intel_retail_workshop\",\"private\":false,\"owner\":{\"login\":\"SSG-DRD-IOT\",\"id\":12757935,\"node_id\":\"MDEyOk9yZ2FuaXphdGlvbjEyNzU3OTM1\",\"avatar_url\":\"https://avatars0.githubusercontent.com/u/12757935?v=4\",\"gravatar_id\":\"\",\"url\":\"https://api.github.com/users/SSG-DRD-IOT\",\"html_url\":\"https://github.com/SSG-DRD-IOT\",\"followers_url\":\"https://api.github.com/users/SSG-DRD-IOT/followers\",\"following_url\":\"https://api.github.com/users/SSG-DRD-IOT/following{/other_user}\",\"gists_url\":\"https://api.github.com/users/SSG-DRD-IOT/gists{/gist_id}\",\"starred_url\":\"https://api.github.com/users/SSG-DRD-IOT/starred{/owner}{/repo}\",\"subscriptions_url\":\"https://api.github.com/users/SSG-DRD-IOT/subscriptions\",\"organizations_url\":\"https://api.github.com/users/SSG-DRD-IOT/orgs\",\"repos_url\":\"https://api.github.com/users/SSG-DRD-IOT/repos\",\"events_url\":\"https://api.github.com/users/SSG-DRD-IOT/events{/privacy}\",\"received_events_url\":\"https://api.github.com/users/SSG-DRD-IOT/received_events\",\"type\":\"Organization\",\"site_admin\":false},\"html_url\":\"https://github.com/SSG-DRD-IOT/intel_retail_workshop\",\"description\":\"Respository for holding retail workshop content\",\"fork\":false,\"url\":\"https://api.github.com/repos/SSG-DRD-IOT/intel_retail_workshop\",\"forks_url\":\"https://api.github.com/repos/SSG-DRD-IOT/intel_retail_workshop/forks\",\"keys_url\":\"https://api.github.com/repos/SSG-DRD-IOT/intel_retail_workshop/keys{/key_id}\",\"collaborators_url\":\"https://api.github.com/repos/SSG-DRD-IOT/intel_retail_workshop/collaborators{/collaborator}\",\"teams_url\":\"https://api.github.com/repos/SSG-DRD-IOT/intel_retail_workshop/teams\",\"hooks_url\":\"https://api.github.com/repos/SSG-DRD-IOT/intel_retail_workshop/hooks\",\"issue_events_url\":\"https://api.github.com/repos/SSG-DRD-IOT/intel_retail_workshop/issues/events{/number}\",\"events_url\":\"https://api.github.com/repos/SSG-DRD-IOT/intel_retail_workshop/events\",\"assignees_url\":\"https://api.github.com/repos/SSG-DRD-IOT/intel_retail_workshop/assignees{/user}\",\"branches_url\":\"https://api.github.com/repos/SSG-DRD-IOT/intel_retail_workshop/branches{/branch}\",\"tags_url\":\"https://api.github.com/repos/SSG-DRD-IOT/intel_retail_workshop/tags\",\"blobs_url\":\"https://api.github.com/repos/SSG-DRD-IOT/intel_retail_workshop/git/blobs{/sha}\",\"git_tags_url\":\"https://api.github.com/repos/SSG-DRD-IOT/intel_retail_workshop/git/tags{/sha}\",\"git_refs_url\":\"https://api.github.com/repos/SSG-DRD-IOT/intel_retail_workshop/git/refs{/sha}\",\"trees_url\":\"https://api.github.com/repos/SSG-DRD-IOT/intel_retail_workshop/git/trees{/sha}\",\"statuses_url\":\"https://api.github.com/repos/SSG-DRD-IOT/intel_retail_workshop/statuses/{sha}\",\"languages_url\":\"https://api.github.com/repos/SSG-DRD-IOT/intel_retail_workshop/languages\",\"stargazers_url\":\"https://api.github.com/repos/SSG-DRD-IOT/intel_retail_workshop/stargazers\",\"contributors_url\":\"https://api.github.com/repos/SSG-DRD-IOT/intel_retail_workshop/contributors\",\"subscribers_url\":\"https://api.github.com/repos/SSG-DRD-IOT/intel_retail_workshop/subscribers\",\"subscription_url\":\"https://api.github.com/repos/SSG-DRD-IOT/intel_retail_workshop/subscription\",\"commits_url\":\"https://api.github.com/repos/SSG-DRD-IOT/intel_retail_workshop/commits{/sha}\",\"git_commits_url\":\"https://api.github.com/repos/SSG-DRD-IOT/intel_retail_workshop/git/commits{/sha}\",\"comments_url\":\"https://api.github.com/repos/SSG-DRD-IOT/intel_retail_workshop/comments{/number}\",\"issue_comment_url\":\"https://api.github.com/repos/SSG-DRD-IOT/intel_retail_workshop/issues/comments{/number}\",\"contents_url\":\"https://api.github.com/repos/SSG-DRD-IOT/intel_retail_workshop/contents/{+path}\",\"compare_url\":\"https://api.github.com/repos/SSG-DRD-IOT/intel_retail_workshop/compare/{base}...{head}\",\"merges_url\":\"https://api.github.com/repos/SSG-DRD-IOT/intel_retail_workshop/merges\",\"archive_url\":\"https://api.github.com/repos/SSG-DRD-IOT/intel_retail_workshop/{archive_format}{/ref}\",\"downloads_url\":\"https://api.github.com/repos/SSG-DRD-IOT/intel_retail_workshop/downloads\",\"issues_url\":\"https://api.github.com/repos/SSG-DRD-IOT/intel_retail_workshop/issues{/number}\",\"pulls_url\":\"https://api.github.com/repos/SSG-DRD-IOT/intel_retail_workshop/pulls{/number}\",\"milestones_url\":\"https://api.github.com/repos/SSG-DRD-IOT/intel_retail_workshop/milestones{/number}\",\"notifications_url\":\"https://api.github.com/repos/SSG-DRD-IOT/intel_retail_workshop/notifications{?since,all,participating}\",\"labels_url\":\"https://api.github.com/repos/SSG-DRD-IOT/intel_retail_workshop/labels{/name}\",\"releases_url\":\"https://api.github.com/repos/SSG-DRD-IOT/intel_retail_workshop/releases{/id}\",\"deployments_url\":\"https://api.github.com/repos/SSG-DRD-IOT/intel_retail_workshop/deployments\",\"created_at\":\"2018-07-02T18:03:41Z\",\"updated_at\":\"2018-11-22T19:18:21Z\",\"pushed_at\":\"2018-11-28T09:24:26Z\",\"git_url\":\"git://github.com/SSG-DRD-IOT/intel_retail_workshop.git\",\"ssh_url\":\"git@github.com:SSG-DRD-IOT/intel_retail_workshop.git\",\"clone_url\":\"https://github.com/SSG-DRD-IOT/intel_retail_workshop.git\",\"svn_url\":\"https://github.com/SSG-DRD-IOT/intel_retail_workshop\",\"homepage\":null,\"size\":167875,\"stargazers_count\":2,\"watchers_count\":2,\"language\":\"JavaScript\",\"has_issues\":true,\"has_projects\":true,\"has_downloads\":true,\"has_wiki\":true,\"has_pages\":false,\"forks_count\":6,\"mirror_url\":null,\"archived\":false,\"open_issues_count\":2,\"license\":null,\"forks\":6,\"open_issues\":2,\"watchers\":2,\"default_branch\":\"master\"}},\"_links\":{\"self\":{\"href\":\"https://api.github.com/repos/SSG-DRD-IOT/intel_retail_workshop/pulls/8\"},\"html\":{\"href\":\"https://github.com/SSG-DRD-IOT/intel_retail_workshop/pull/8\"},\"issue\":{\"href\":\"https://api.github.com/repos/SSG-DRD-IOT/intel_retail_workshop/issues/8\"},\"comments\":{\"href\":\"https://api.github.com/repos/SSG-DRD-IOT/intel_retail_workshop/issues/8/comments\"},\"review_comments\":{\"href\":\"https://api.github.com/repos/SSG-DRD-IOT/intel_retail_workshop/pulls/8/comments\"},\"review_comment\":{\"href\":\"https://api.github.com/repos/SSG-DRD-IOT/intel_retail_workshop/pulls/comments{/number}\"},\"commits\":{\"href\":\"https://api.github.com/repos/SSG-DRD-IOT/intel_retail_workshop/pulls/8/commits\"},\"statuses\":{\"href\":\"https://api.github.com/repos/SSG-DRD-IOT/intel_retail_workshop/statuses/b169834bce6ce087b90ad7c746a52c65a59c95b3\"}},\"author_association\":\"CONTRIBUTOR\",\"merged\":false,\"mergeable\":null,\"rebaseable\":null,\"mergeable_state\":\"unknown\",\"merged_by\":null,\"comments\":0,\"review_comments\":0,\"maintainer_can_modify\":true,\"commits\":1,\"additions\":3,\"deletions\":3,\"changed_files\":1}},\"public\":true,\"created_at\":\"2018-11-30T22:54:22Z\",\"org\":{\"id\":12757935,\"login\":\"SSG-DRD-IOT\",\"gravatar_id\":\"\",\"url\":\"https://api.github.com/orgs/SSG-DRD-IOT\",\"avatar_url\":\"https://avatars.githubusercontent.com/u/12757935?\"}},{\"id\":\"8664873139\",\"type\":\"PushEvent\",\"actor\":{\"id\":4919014,\"login\":\"martinkronberg\",\"display_login\":\"martinkronberg\",\"gravatar_id\":\"\",\"url\":\"https://api.github.com/users/martinkronberg\",\"avatar_url\":\"https://avatars.githubusercontent.com/u/4919014?\"},\"repo\":{\"id\":158438210,\"name\":\"SSG-DRD-IOT/object-flaw-detector-up2-lab\",\"url\":\"https://api.github.com/repos/SSG-DRD-IOT/object-flaw-detector-up2-lab\"},\"payload\":{\"push_id\":3089652215,\"size\":1,\"distinct_size\":1,\"ref\":\"refs/heads/master\",\"head\":\"20bf7ed2b4d72ca64b878c1aca690bb15bcaf31b\",\"before\":\"5e51c01315811a7202e58dea9547bb24e1ed0137\",\"commits\":[{\"sha\":\"20bf7ed2b4d72ca64b878c1aca690bb15bcaf31b\",\"author\":{\"email\":\"kronberg.martin@gmail.com\",\"name\":\"Martin Kronberg\"},\"message\":\"Update README.md\",\"distinct\":true,\"url\":\"https://api.github.com/repos/SSG-DRD-IOT/object-flaw-detector-up2-lab/commits/20bf7ed2b4d72ca64b878c1aca690bb15bcaf31b\"}]},\"public\":true,\"created_at\":\"2018-11-28T21:30:03Z\",\"org\":{\"id\":12757935,\"login\":\"SSG-DRD-IOT\",\"gravatar_id\":\"\",\"url\":\"https://api.github.com/orgs/SSG-DRD-IOT\",\"avatar_url\":\"https://avatars.githubusercontent.com/u/12757935?\"}}]\n"
     ]
    }
   ],
   "source": [
    "print(r.text)"
   ]
  },
  {
   "cell_type": "code",
   "execution_count": 38,
   "metadata": {
    "collapsed": true
   },
   "outputs": [
    {
     "name": "stdout",
     "output_type": "stream",
     "text": [
      "[\n",
      "    {\n",
      "        \"address\": \"edgex-device-virtual\",\n",
      "        \"baseURL\": \"HTTP://edgex-device-virtual:49990\",\n",
      "        \"created\": 1546554449151,\n",
      "        \"id\": \"5c2e8c519f8fc20001304878\",\n",
      "        \"method\": \"POST\",\n",
      "        \"modified\": 0,\n",
      "        \"name\": \"edgex-device-virtual\",\n",
      "        \"origin\": 1546554448888,\n",
      "        \"password\": null,\n",
      "        \"path\": \"/api/v1/callback\",\n",
      "        \"port\": 49990,\n",
      "        \"protocol\": \"HTTP\",\n",
      "        \"publisher\": null,\n",
      "        \"topic\": null,\n",
      "        \"url\": \"HTTP://edgex-device-virtual:49990/api/v1/callback\",\n",
      "        \"user\": null\n",
      "    },\n",
      "    {\n",
      "        \"address\": \"edgex-device-virtual\",\n",
      "        \"baseURL\": \"OTHER://edgex-device-virtual:49990\",\n",
      "        \"created\": 1546554452864,\n",
      "        \"id\": \"5c2e8c549f8fc20001304886\",\n",
      "        \"method\": \"POST\",\n",
      "        \"modified\": 0,\n",
      "        \"name\": \"JC.RR5.NAE9.ConfRoom.Padre.Island01-virtual-addressable\",\n",
      "        \"origin\": 1546554452851,\n",
      "        \"password\": null,\n",
      "        \"path\": null,\n",
      "        \"port\": 49990,\n",
      "        \"protocol\": \"OTHER\",\n",
      "        \"publisher\": null,\n",
      "        \"topic\": null,\n",
      "        \"url\": \"OTHER://edgex-device-virtual:49990\",\n",
      "        \"user\": null\n",
      "    },\n",
      "    {\n",
      "        \"address\": \"edgex-device-virtual\",\n",
      "        \"baseURL\": \"OTHER://edgex-device-virtual:49990\",\n",
      "        \"created\": 1546554452942,\n",
      "        \"id\": \"5c2e8c549f8fc20001304888\",\n",
      "        \"method\": \"POST\",\n",
      "        \"modified\": 0,\n",
      "        \"name\": \"GS1-AC-Drive01-virtual-addressable\",\n",
      "        \"origin\": 1546554452929,\n",
      "        \"password\": null,\n",
      "        \"path\": null,\n",
      "        \"port\": 49990,\n",
      "        \"protocol\": \"OTHER\",\n",
      "        \"publisher\": null,\n",
      "        \"topic\": null,\n",
      "        \"url\": \"OTHER://edgex-device-virtual:49990\",\n",
      "        \"user\": null\n",
      "    },\n",
      "    {\n",
      "        \"address\": \"edgex-device-virtual\",\n",
      "        \"baseURL\": \"OTHER://edgex-device-virtual:49990\",\n",
      "        \"created\": 1546554453024,\n",
      "        \"id\": \"5c2e8c559f8fc2000130488a\",\n",
      "        \"method\": \"POST\",\n",
      "        \"modified\": 0,\n",
      "        \"name\": \"KMC.BAC-121036CE01-virtual-addressable\",\n",
      "        \"origin\": 1546554453010,\n",
      "        \"password\": null,\n",
      "        \"path\": null,\n",
      "        \"port\": 49990,\n",
      "        \"protocol\": \"OTHER\",\n",
      "        \"publisher\": null,\n",
      "        \"topic\": null,\n",
      "        \"url\": \"OTHER://edgex-device-virtual:49990\",\n",
      "        \"user\": null\n",
      "    },\n",
      "    {\n",
      "        \"address\": \"edgex-device-virtual\",\n",
      "        \"baseURL\": \"HTTP://edgex-device-virtual:49990\",\n",
      "        \"created\": 1546554453564,\n",
      "        \"id\": \"5c2e8c559f8fc2000130488f\",\n",
      "        \"method\": \"POST\",\n",
      "        \"modified\": 0,\n",
      "        \"name\": \"Schedule-device-virtual-vr-3\",\n",
      "        \"origin\": 1546554453551,\n",
      "        \"password\": null,\n",
      "        \"path\": \"/api/v1/collector/3\",\n",
      "        \"port\": 49990,\n",
      "        \"protocol\": \"HTTP\",\n",
      "        \"publisher\": null,\n",
      "        \"topic\": null,\n",
      "        \"url\": \"HTTP://edgex-device-virtual:49990/api/v1/collector/3\",\n",
      "        \"user\": null\n",
      "    },\n",
      "    {\n",
      "        \"address\": \"edgex-device-virtual\",\n",
      "        \"baseURL\": \"HTTP://edgex-device-virtual:49990\",\n",
      "        \"created\": 1546554453564,\n",
      "        \"id\": \"5c2e8c559f8fc20001304890\",\n",
      "        \"method\": \"POST\",\n",
      "        \"modified\": 0,\n",
      "        \"name\": \"Schedule-device-virtual-vr-2\",\n",
      "        \"origin\": 1546554453550,\n",
      "        \"password\": null,\n",
      "        \"path\": \"/api/v1/collector/2\",\n",
      "        \"port\": 49990,\n",
      "        \"protocol\": \"HTTP\",\n",
      "        \"publisher\": null,\n",
      "        \"topic\": null,\n",
      "        \"url\": \"HTTP://edgex-device-virtual:49990/api/v1/collector/2\",\n",
      "        \"user\": null\n",
      "    },\n",
      "    {\n",
      "        \"address\": \"edgex-device-virtual\",\n",
      "        \"baseURL\": \"HTTP://edgex-device-virtual:49990\",\n",
      "        \"created\": 1546554453564,\n",
      "        \"id\": \"5c2e8c559f8fc20001304891\",\n",
      "        \"method\": \"POST\",\n",
      "        \"modified\": 0,\n",
      "        \"name\": \"Schedule-device-virtual-vr-1\",\n",
      "        \"origin\": 1546554453552,\n",
      "        \"password\": null,\n",
      "        \"path\": \"/api/v1/collector/1\",\n",
      "        \"port\": 49990,\n",
      "        \"protocol\": \"HTTP\",\n",
      "        \"publisher\": null,\n",
      "        \"topic\": null,\n",
      "        \"url\": \"HTTP://edgex-device-virtual:49990/api/v1/collector/1\",\n",
      "        \"user\": null\n",
      "    },\n",
      "    {\n",
      "        \"address\": \"edgex-device-virtual\",\n",
      "        \"baseURL\": \"HTTP://edgex-device-virtual:49990\",\n",
      "        \"created\": 1546554453692,\n",
      "        \"id\": \"5c2e8c559f8fc20001304898\",\n",
      "        \"method\": \"POST\",\n",
      "        \"modified\": 0,\n",
      "        \"name\": \"Schedule-device-virtual-vr-6\",\n",
      "        \"origin\": 1546554453670,\n",
      "        \"password\": null,\n",
      "        \"path\": \"/api/v1/collector/6\",\n",
      "        \"port\": 49990,\n",
      "        \"protocol\": \"HTTP\",\n",
      "        \"publisher\": null,\n",
      "        \"topic\": null,\n",
      "        \"url\": \"HTTP://edgex-device-virtual:49990/api/v1/collector/6\",\n",
      "        \"user\": null\n",
      "    },\n",
      "    {\n",
      "        \"address\": \"edgex-device-virtual\",\n",
      "        \"baseURL\": \"HTTP://edgex-device-virtual:49990\",\n",
      "        \"created\": 1546554453700,\n",
      "        \"id\": \"5c2e8c559f8fc20001304899\",\n",
      "        \"method\": \"POST\",\n",
      "        \"modified\": 0,\n",
      "        \"name\": \"Schedule-device-virtual-vr-5\",\n",
      "        \"origin\": 1546554453675,\n",
      "        \"password\": null,\n",
      "        \"path\": \"/api/v1/collector/5\",\n",
      "        \"port\": 49990,\n",
      "        \"protocol\": \"HTTP\",\n",
      "        \"publisher\": null,\n",
      "        \"topic\": null,\n",
      "        \"url\": \"HTTP://edgex-device-virtual:49990/api/v1/collector/5\",\n",
      "        \"user\": null\n",
      "    },\n",
      "    {\n",
      "        \"address\": \"edgex-device-virtual\",\n",
      "        \"baseURL\": \"HTTP://edgex-device-virtual:49990\",\n",
      "        \"created\": 1546554453702,\n",
      "        \"id\": \"5c2e8c559f8fc2000130489a\",\n",
      "        \"method\": \"POST\",\n",
      "        \"modified\": 0,\n",
      "        \"name\": \"Schedule-device-virtual-vr-4\",\n",
      "        \"origin\": 1546554453668,\n",
      "        \"password\": null,\n",
      "        \"path\": \"/api/v1/collector/4\",\n",
      "        \"port\": 49990,\n",
      "        \"protocol\": \"HTTP\",\n",
      "        \"publisher\": null,\n",
      "        \"topic\": null,\n",
      "        \"url\": \"HTTP://edgex-device-virtual:49990/api/v1/collector/4\",\n",
      "        \"user\": null\n",
      "    },\n",
      "    {\n",
      "        \"address\": \"edgex-device-virtual\",\n",
      "        \"baseURL\": \"HTTP://edgex-device-virtual:49990\",\n",
      "        \"created\": 1546554454033,\n",
      "        \"id\": \"5c2e8c569f8fc2000130489f\",\n",
      "        \"method\": \"POST\",\n",
      "        \"modified\": 0,\n",
      "        \"name\": \"Schedule-device-virtual-vr-7\",\n",
      "        \"origin\": 1546554454015,\n",
      "        \"password\": null,\n",
      "        \"path\": \"/api/v1/collector/7\",\n",
      "        \"port\": 49990,\n",
      "        \"protocol\": \"HTTP\",\n",
      "        \"publisher\": null,\n",
      "        \"topic\": null,\n",
      "        \"url\": \"HTTP://edgex-device-virtual:49990/api/v1/collector/7\",\n",
      "        \"user\": null\n",
      "    },\n",
      "    {\n",
      "        \"address\": \"edgex-device-virtual\",\n",
      "        \"baseURL\": \"HTTP://edgex-device-virtual:49990\",\n",
      "        \"created\": 1546554454171,\n",
      "        \"id\": \"5c2e8c569f8fc200013048a2\",\n",
      "        \"method\": \"POST\",\n",
      "        \"modified\": 0,\n",
      "        \"name\": \"Schedule-device-virtual-vr-8\",\n",
      "        \"origin\": 1546554454156,\n",
      "        \"password\": null,\n",
      "        \"path\": \"/api/v1/collector/8\",\n",
      "        \"port\": 49990,\n",
      "        \"protocol\": \"HTTP\",\n",
      "        \"publisher\": null,\n",
      "        \"topic\": null,\n",
      "        \"url\": \"HTTP://edgex-device-virtual:49990/api/v1/collector/8\",\n",
      "        \"user\": null\n",
      "    },\n",
      "    {\n",
      "        \"address\": \"edgex-device-virtual\",\n",
      "        \"baseURL\": \"HTTP://edgex-device-virtual:49990\",\n",
      "        \"created\": 1546554454383,\n",
      "        \"id\": \"5c2e8c569f8fc200013048a5\",\n",
      "        \"method\": \"POST\",\n",
      "        \"modified\": 0,\n",
      "        \"name\": \"Schedule-device-virtual-vr-9\",\n",
      "        \"origin\": 1546554454371,\n",
      "        \"password\": null,\n",
      "        \"path\": \"/api/v1/collector/9\",\n",
      "        \"port\": 49990,\n",
      "        \"protocol\": \"HTTP\",\n",
      "        \"publisher\": null,\n",
      "        \"topic\": null,\n",
      "        \"url\": \"HTTP://edgex-device-virtual:49990/api/v1/collector/9\",\n",
      "        \"user\": null\n",
      "    },\n",
      "    {\n",
      "        \"address\": \"172.17.0.1\",\n",
      "        \"baseURL\": \"HTTP://172.17.0.1:49977\",\n",
      "        \"created\": 1546559647078,\n",
      "        \"id\": \"5c2ea09f9f8fc200013048a7\",\n",
      "        \"method\": null,\n",
      "        \"modified\": 0,\n",
      "        \"name\": \"Camera Control\",\n",
      "        \"origin\": 0,\n",
      "        \"password\": \"none\",\n",
      "        \"path\": \"/cameracontrol\",\n",
      "        \"port\": 49977,\n",
      "        \"protocol\": \"HTTP\",\n",
      "        \"publisher\": \"none\",\n",
      "        \"topic\": \"none\",\n",
      "        \"url\": \"HTTP://172.17.0.1:49977/cameracontrol\",\n",
      "        \"user\": \"none\"\n",
      "    },\n",
      "    {\n",
      "        \"address\": \"172.17.0.1\",\n",
      "        \"baseURL\": \"HTTP://172.17.0.1:49999\",\n",
      "        \"created\": 1546559651767,\n",
      "        \"id\": \"5c2ea0a39f8fc200013048a8\",\n",
      "        \"method\": null,\n",
      "        \"modified\": 0,\n",
      "        \"name\": \"camera1 address\",\n",
      "        \"origin\": 0,\n",
      "        \"password\": \"none\",\n",
      "        \"path\": \"/camera1\",\n",
      "        \"port\": 49999,\n",
      "        \"protocol\": \"HTTP\",\n",
      "        \"publisher\": \"none\",\n",
      "        \"topic\": \"none\",\n",
      "        \"url\": \"HTTP://172.17.0.1:49999/camera1\",\n",
      "        \"user\": \"none\"\n",
      "    }\n",
      "]\n"
     ]
    }
   ],
   "source": [
    "import json\n",
    "def pjson(text):\n",
    "    parsed = json.loads(text)\n",
    "    print(json.dumps(parsed, indent=4, sort_keys=True))\n",
    "    \n",
    "pjson(r.text)"
   ]
  },
  {
   "cell_type": "markdown",
   "metadata": {},
   "source": [
    "## Define your Data\n",
    "### Addressables"
   ]
  },
  {
   "cell_type": "markdown",
   "metadata": {},
   "source": [
    "The Device Service will often establish at least two Addressable objects with the Core Metadata micro service. An Addressable is a flexible EdgeX object that specifies a physical address of something - in this case the physical address of the Device Service and the Device (the camera). While an Addressable could be created for a named MQTT pipe or other protocol endpoint, for this example, we will assume that both the Device Service and Device are able to be reached via HTTP REST calls.\n",
    "\n",
    "So in this case, the Device Service would make two calls to Core Metadata, to create the Addressable for the Device Service:"
   ]
  },
  {
   "cell_type": "code",
   "execution_count": 34,
   "metadata": {
    "collapsed": true
   },
   "outputs": [
    {
     "name": "stdout",
     "output_type": "stream",
     "text": [
      "5c2ff1029f8fc200013048ad\n"
     ]
    }
   ],
   "source": [
    "url = \"http://localhost:48081/api/v1/addressable\"\n",
    "\n",
    "payload = \"{\\n\\t\\\"name\\\":\\\"Camera Control\\\",\\n\\t\\\"protocol\\\":\\\"HTTP\\\",\\n\\t\\\"address\\\":\\\"172.17.0.1\\\",\\n\\t\\\"port\\\":49977,\\n\\t\\\"path\\\":\\\"/cameracontrol\\\",\\n\\t\\\"publisher\\\":\\\"none\\\",\\n\\t\\\"user\\\":\\\"none\\\",\\n\\t\\\"password\\\":\\\"none\\\",\\n\\t\\\"topic\\\":\\\"none\\\"\\n}\"\n",
    "headers = {\n",
    "    'cache-control': \"no-cache\",\n",
    "    'Postman-Token': \"054ef071-9e4b-4f87-bbaf-8486fcca5db0\"\n",
    "    }\n",
    "\n",
    "response = requests.request(\"POST\", url, data=payload, headers=headers)\n",
    "\n",
    "print(response.text)"
   ]
  },
  {
   "cell_type": "code",
   "execution_count": 36,
   "metadata": {
    "collapsed": true
   },
   "outputs": [
    {
     "name": "stdout",
     "output_type": "stream",
     "text": [
      "5c2ff1909f8fc200013048ae\n"
     ]
    }
   ],
   "source": [
    "import requests\n",
    "\n",
    "url = \"http://localhost:48081/api/v1/addressable\"\n",
    "\n",
    "payload = \"{\\n\\t\\\"name\\\":\\\"camera1 address\\\",\\n\\t\\\"protocol\\\":\\\"HTTP\\\",\\n\\t\\\"address\\\":\\\"172.17.0.1\\\",\\n\\t\\\"port\\\":49999,\\n\\t\\\"path\\\":\\\"/camera1\\\",\\n\\t\\\"publisher\\\":\\\"none\\\",\\n\\t\\\"user\\\":\\\"none\\\",\\n\\t\\\"password\\\":\\\"none\\\",\\n\\t\\\"topic\\\":\\\"none\\\"\\n}\"\n",
    "headers = {\n",
    "    'cache-control': \"no-cache\",\n",
    "    'Postman-Token': \"ecd7ce3a-1711-4bfa-a809-33a9e36d1d80\"\n",
    "    }\n",
    "\n",
    "response = requests.request(\"POST\", url, data=payload, headers=headers)\n",
    "\n",
    "print(response.text)"
   ]
  },
  {
   "cell_type": "markdown",
   "metadata": {},
   "source": [
    "Define the value descriptors"
   ]
  },
  {
   "cell_type": "code",
   "execution_count": 41,
   "metadata": {
    "scrolled": false
   },
   "outputs": [
    {
     "name": "stdout",
     "output_type": "stream",
     "text": [
      "[\n",
      "    {\n",
      "        \"created\": 1546554453291,\n",
      "        \"defaultValue\": \"true\",\n",
      "        \"description\": \"whether generating random value in each collection cycle\",\n",
      "        \"formatting\": \"%s\",\n",
      "        \"id\": \"5c2e8c5553201a67a58f2cb2\",\n",
      "        \"labels\": null,\n",
      "        \"max\": null,\n",
      "        \"min\": null,\n",
      "        \"modified\": 0,\n",
      "        \"name\": \"enableRandomization\",\n",
      "        \"origin\": 0,\n",
      "        \"type\": \"B\",\n",
      "        \"uomLabel\": \"Random\"\n",
      "    },\n",
      "    {\n",
      "        \"created\": 1546554453376,\n",
      "        \"defaultValue\": \"15\",\n",
      "        \"description\": \"the frequency of collection\",\n",
      "        \"formatting\": \"%s\",\n",
      "        \"id\": \"5c2e8c5553201a67a58f2cbe\",\n",
      "        \"labels\": null,\n",
      "        \"max\": \"600\",\n",
      "        \"min\": \"0\",\n",
      "        \"modified\": 0,\n",
      "        \"name\": \"collectionFrequency\",\n",
      "        \"origin\": 0,\n",
      "        \"type\": \"I\",\n",
      "        \"uomLabel\": \"Seconds\"\n",
      "    },\n",
      "    {\n",
      "        \"created\": 1546554453326,\n",
      "        \"defaultValue\": \"0.00\",\n",
      "        \"description\": \"The current temperature.\",\n",
      "        \"formatting\": \"%s\",\n",
      "        \"id\": \"5c2e8c5553201a67a58f2cc5\",\n",
      "        \"labels\": null,\n",
      "        \"max\": \"199.99\",\n",
      "        \"min\": \"-99.99\",\n",
      "        \"modified\": 0,\n",
      "        \"name\": \"AnalogValue_40\",\n",
      "        \"origin\": 0,\n",
      "        \"type\": \"F\",\n",
      "        \"uomLabel\": \"DegreesFarenheit\"\n",
      "    },\n",
      "    {\n",
      "        \"created\": 1546554453331,\n",
      "        \"defaultValue\": \"0.00\",\n",
      "        \"description\": \"US RR5-2 Padre Island Conference Room Current Temperature\",\n",
      "        \"formatting\": \"%s\",\n",
      "        \"id\": \"5c2e8c5553201a67a58f2cc7\",\n",
      "        \"labels\": null,\n",
      "        \"max\": \"199.99\",\n",
      "        \"min\": \"-99.99\",\n",
      "        \"modified\": 0,\n",
      "        \"name\": \"AnalogInput_3000290\",\n",
      "        \"origin\": 0,\n",
      "        \"type\": \"F\",\n",
      "        \"uomLabel\": \"Degrees Fahrenheit\"\n",
      "    },\n",
      "    {\n",
      "        \"created\": 1546554453339,\n",
      "        \"defaultValue\": \"0.00\",\n",
      "        \"description\": \"Get the current humidity.\",\n",
      "        \"formatting\": \"%s\",\n",
      "        \"id\": \"5c2e8c5553201a67a58f2cc9\",\n",
      "        \"labels\": null,\n",
      "        \"max\": \"100.00\",\n",
      "        \"min\": \"0.00\",\n",
      "        \"modified\": 0,\n",
      "        \"name\": \"AnalogValue_22\",\n",
      "        \"origin\": 0,\n",
      "        \"type\": \"F\",\n",
      "        \"uomLabel\": \"RelativeHumidity\"\n",
      "    },\n",
      "    {\n",
      "        \"created\": 1546554453344,\n",
      "        \"defaultValue\": \"0.00\",\n",
      "        \"description\": \"US RR5-2 Padre Island Conference Room Temperature Set Point\",\n",
      "        \"formatting\": \"%s\",\n",
      "        \"id\": \"5c2e8c5553201a67a58f2ccb\",\n",
      "        \"labels\": null,\n",
      "        \"max\": \"199.99\",\n",
      "        \"min\": \"-99.99\",\n",
      "        \"modified\": 0,\n",
      "        \"name\": \"AnalogOutput_3000289\",\n",
      "        \"origin\": 0,\n",
      "        \"type\": \"F\",\n",
      "        \"uomLabel\": \"Degrees Fahrenheit\"\n",
      "    },\n",
      "    {\n",
      "        \"created\": 1546554453351,\n",
      "        \"defaultValue\": \"0.00\",\n",
      "        \"description\": \"The occupied cooling set point.\",\n",
      "        \"formatting\": \"%s\",\n",
      "        \"id\": \"5c2e8c5553201a67a58f2ccf\",\n",
      "        \"labels\": null,\n",
      "        \"max\": \"199.99\",\n",
      "        \"min\": \"-99.99\",\n",
      "        \"modified\": 0,\n",
      "        \"name\": \"AnalogValue_20\",\n",
      "        \"origin\": 0,\n",
      "        \"type\": \"F\",\n",
      "        \"uomLabel\": \"DegreesFarenheit\"\n",
      "    },\n",
      "    {\n",
      "        \"created\": 1546554453376,\n",
      "        \"defaultValue\": \"0.00\",\n",
      "        \"description\": \"The occupied heating set point.\",\n",
      "        \"formatting\": \"%s\",\n",
      "        \"id\": \"5c2e8c5553201a67a58f2cde\",\n",
      "        \"labels\": null,\n",
      "        \"max\": \"199.99\",\n",
      "        \"min\": \"-99.99\",\n",
      "        \"modified\": 0,\n",
      "        \"name\": \"AnalogValue_21\",\n",
      "        \"origin\": 0,\n",
      "        \"type\": \"F\",\n",
      "        \"uomLabel\": \"DegreesFarenheit\"\n",
      "    },\n",
      "    {\n",
      "        \"created\": 1546554453399,\n",
      "        \"defaultValue\": \"0.00\",\n",
      "        \"description\": \"Get the OutputVoltage.\",\n",
      "        \"formatting\": \"%s\",\n",
      "        \"id\": \"5c2e8c5553201a67a58f2cef\",\n",
      "        \"labels\": null,\n",
      "        \"max\": \"300\",\n",
      "        \"min\": \"0.00\",\n",
      "        \"modified\": 0,\n",
      "        \"name\": \"HoldingRegister_8455\",\n",
      "        \"origin\": 0,\n",
      "        \"type\": \"F\",\n",
      "        \"uomLabel\": \"rpm\"\n",
      "    },\n",
      "    {\n",
      "        \"created\": 1546554453422,\n",
      "        \"defaultValue\": \"0.00\",\n",
      "        \"description\": \"Get the RPM.\",\n",
      "        \"formatting\": \"%s\",\n",
      "        \"id\": \"5c2e8c5553201a67a58f2cf1\",\n",
      "        \"labels\": null,\n",
      "        \"max\": \"300\",\n",
      "        \"min\": \"0.00\",\n",
      "        \"modified\": 0,\n",
      "        \"name\": \"HoldingRegister_8454\",\n",
      "        \"origin\": 0,\n",
      "        \"type\": \"F\",\n",
      "        \"uomLabel\": \"Volts\"\n",
      "    },\n",
      "    {\n",
      "        \"created\": 1546554453433,\n",
      "        \"defaultValue\": \"false\",\n",
      "        \"description\": \"The status of the device.\",\n",
      "        \"formatting\": \"%s\",\n",
      "        \"id\": \"5c2e8c5553201a67a58f2cf4\",\n",
      "        \"labels\": null,\n",
      "        \"max\": null,\n",
      "        \"min\": null,\n",
      "        \"modified\": 0,\n",
      "        \"name\": \"HoldingRegister_2331\",\n",
      "        \"origin\": 0,\n",
      "        \"type\": \"B\",\n",
      "        \"uomLabel\": \"OFF\"\n",
      "    },\n",
      "    {\n",
      "        \"created\": 1546559658466,\n",
      "        \"defaultValue\": \"0\",\n",
      "        \"description\": \"people count\",\n",
      "        \"formatting\": \"%s\",\n",
      "        \"id\": \"5c2ea0aa53201a67a58fb83b\",\n",
      "        \"labels\": [\n",
      "            \"count\",\n",
      "            \"humans\"\n",
      "        ],\n",
      "        \"max\": \"100\",\n",
      "        \"min\": \"0\",\n",
      "        \"modified\": 0,\n",
      "        \"name\": \"humancount\",\n",
      "        \"origin\": 0,\n",
      "        \"type\": \"I\",\n",
      "        \"uomLabel\": \"count\"\n",
      "    }\n",
      "]\n"
     ]
    }
   ],
   "source": [
    "# First, list all the value descriptors\n",
    "\n",
    "import requests\n",
    "\n",
    "url = \"http://localhost:48080/api/v1/valuedescriptor\"\n",
    "\n",
    "payload = \"\"\n",
    "headers = {\n",
    "    'cache-control': \"no-cache\",\n",
    "    'Postman-Token': \"55df389a-bac4-4976-8c9d-4c8bd8485aef\"\n",
    "    }\n",
    "\n",
    "response = requests.request(\"GET\", url, data=payload, headers=headers)\n",
    "\n",
    "\n",
    "pjson(response.text)"
   ]
  },
  {
   "cell_type": "code",
   "execution_count": 43,
   "metadata": {},
   "outputs": [
    {
     "name": "stdout",
     "output_type": "stream",
     "text": [
      "5c2ff80e53201a67a598bbdc\n"
     ]
    }
   ],
   "source": [
    "# Create the ValueDescriptor for the \"humancounter\"\n",
    "import requests\n",
    "\n",
    "url = \"http://localhost:48080/api/v1/valuedescriptor\"\n",
    "\n",
    "payload = \"{\\n\\t\\\"name\\\":\\\"humancount\\\",\\n\\t\\\"description\\\":\\\"people count\\\", \\n\\t\\\"min\\\":\\\"0\\\",\\n\\t\\\"max\\\":\\\"100\\\",\\n\\t\\\"type\\\":\\\"I\\\",\\n\\t\\\"uomLabel\\\":\\\"count\\\",\\n\\t\\\"defaultValue\\\":\\\"0\\\",\\n\\t\\\"formatting\\\":\\\"%s\\\",\\n\\t\\\"labels\\\":[\\\"count\\\",\\\"humans\\\"]\\n}\"\n",
    "headers = {\n",
    "    'cache-control': \"no-cache\",\n",
    "    'Postman-Token': \"d0a0021a-d1d4-4e60-bac7-1ed0c4fb1940\"\n",
    "    }\n",
    "\n",
    "response = requests.request(\"POST\", url, data=payload, headers=headers)\n",
    "\n",
    "print(response.text)"
   ]
  },
  {
   "cell_type": "code",
   "execution_count": 44,
   "metadata": {},
   "outputs": [
    {
     "name": "stdout",
     "output_type": "stream",
     "text": [
      "value descriptor 'caninecount' still referenced by readings\n",
      "\n"
     ]
    }
   ],
   "source": [
    "# Create the ValueDescriptor for the \"dogcounter\"\n",
    "import requests\n",
    "\n",
    "url = \"http://localhost:48080/api/v1/valuedescriptor\"\n",
    "\n",
    "payload = \"{\\n    \\\"defaultValue\\\": \\\"0\\\",\\n    \\\"description\\\": \\\"dog count\\\",\\n    \\\"formatting\\\": \\\"%s\\\",\\n    \\\"labels\\\": [\\n        \\\"count\\\",\\n        \\\"canines\\\"\\n    ],\\n    \\\"max\\\": \\\"100\\\",\\n    \\\"min\\\": \\\"0\\\",\\n    \\\"name\\\": \\\"caninecount\\\",\\n    \\\"type\\\": \\\"I\\\",\\n    \\\"uomLabel\\\": \\\"count\\\"\\n}\"\n",
    "headers = {\n",
    "    'cache-control': \"no-cache\",\n",
    "    'Postman-Token': \"30b43a6e-14b1-46fb-9cd7-2fc6ce7e0f4d\"\n",
    "    }\n",
    "\n",
    "response = requests.request(\"POST\", url, data=payload, headers=headers)\n",
    "\n",
    "print(response.text)"
   ]
  },
  {
   "cell_type": "code",
   "execution_count": 46,
   "metadata": {},
   "outputs": [
    {
     "name": "stdout",
     "output_type": "stream",
     "text": [
      "value descriptor 'depth' still referenced by readings\n",
      "\n"
     ]
    }
   ],
   "source": [
    "# Create the ValueDescriptor for the \"depth\"\n",
    "import requests\n",
    "\n",
    "url = \"http://localhost:48080/api/v1/valuedescriptor\"\n",
    "\n",
    "payload = \"{\\n    \\\"defaultValue\\\": \\\"1\\\",\\n    \\\"description\\\": \\\"scan distance\\\",\\n    \\\"formatting\\\": \\\"%s\\\",\\n    \\\"labels\\\": [\\n        \\\"scan\\\",\\n        \\\"distance\\\"\\n    ],\\n    \\\"max\\\": \\\"10\\\",\\n    \\\"min\\\": \\\"1\\\",\\n    \\\"name\\\": \\\"depth\\\",\\n    \\\"type\\\": \\\"I\\\",\\n    \\\"uomLabel\\\": \\\"feet\\\"\\n}\"\n",
    "headers = {\n",
    "    'cache-control': \"no-cache\",\n",
    "    'Postman-Token': \"04c48848-b798-40a4-8ab8-66559575955b\"\n",
    "    }\n",
    "\n",
    "response = requests.request(\"POST\", url, data=payload, headers=headers)\n",
    "\n",
    "print(response.text)"
   ]
  },
  {
   "cell_type": "code",
   "execution_count": 47,
   "metadata": {},
   "outputs": [
    {
     "name": "stdout",
     "output_type": "stream",
     "text": [
      "5c2ff92753201a67a598c36c\n"
     ]
    }
   ],
   "source": [
    "# Create the ValueDescriptor for the \"duration\"\n",
    "import requests\n",
    "\n",
    "url = \"http://localhost:48080/api/v1/valuedescriptor\"\n",
    "\n",
    "payload = \"{\\n\\t\\\"name\\\":\\\"duration\\\",\\n\\t\\\"description\\\":\\\"time between events\\\", \\n\\t\\\"min\\\":\\\"10\\\",\\n\\t\\\"max\\\":\\\"180\\\",\\n\\t\\\"type\\\":\\\"I\\\",\\n\\t\\\"uomLabel\\\":\\\"seconds\\\",\\n\\t\\\"defaultValue\\\":\\\"10\\\",\\n\\t\\\"formatting\\\":\\\"%s\\\",\\n\\t\\\"labels\\\":[\\\"duration\\\",\\\"time\\\"]\\n}\\n\"\n",
    "headers = {\n",
    "    'cache-control': \"no-cache\",\n",
    "    'Postman-Token': \"26dc8757-f88e-45f4-a45e-eead6ad88478\"\n",
    "    }\n",
    "\n",
    "response = requests.request(\"POST\", url, data=payload, headers=headers)\n",
    "\n",
    "print(response.text)"
   ]
  },
  {
   "cell_type": "code",
   "execution_count": 48,
   "metadata": {},
   "outputs": [
    {
     "name": "stdout",
     "output_type": "stream",
     "text": [
      "5c2ff96053201a67a598c4fb\n"
     ]
    }
   ],
   "source": [
    "# Create the ValueDescriptor for the \"error\"\n",
    "import requests\n",
    "\n",
    "url = \"http://localhost:48080/api/v1/valuedescriptor\"\n",
    "\n",
    "payload = \"{\\n    \\\"defaultValue\\\": \\\"error\\\",\\n    \\\"description\\\": \\\"error response message from a camera\\\",\\n    \\\"formatting\\\": \\\"%s\\\",\\n    \\\"labels\\\": [\\n        \\\"error\\\",\\n        \\\"message\\\"\\n    ],\\n    \\\"max\\\": \\\"\\\",\\n    \\\"min\\\": \\\"\\\",\\n    \\\"name\\\": \\\"cameraerror\\\",\\n    \\\"type\\\": \\\"S\\\",\\n    \\\"uomLabel\\\": \\\"\\\"\\n}\"\n",
    "headers = {\n",
    "    'cache-control': \"no-cache\",\n",
    "    'Postman-Token': \"c0c86617-67d4-4d98-bd44-657db122f10e\"\n",
    "    }\n",
    "\n",
    "response = requests.request(\"POST\", url, data=payload, headers=headers)\n",
    "\n",
    "print(response.text)"
   ]
  },
  {
   "cell_type": "markdown",
   "metadata": {},
   "source": [
    "## Define the Device"
   ]
  },
  {
   "cell_type": "markdown",
   "metadata": {},
   "source": [
    "### Writing Data to the Core Data Service"
   ]
  },
  {
   "cell_type": "code",
   "execution_count": null,
   "metadata": {},
   "outputs": [],
   "source": []
  }
 ],
 "metadata": {
  "kernelspec": {
   "display_name": "Python 3",
   "language": "python",
   "name": "python3"
  },
  "language_info": {
   "codemirror_mode": {
    "name": "ipython",
    "version": 3
   },
   "file_extension": ".py",
   "mimetype": "text/x-python",
   "name": "python",
   "nbconvert_exporter": "python",
   "pygments_lexer": "ipython3",
   "version": "3.5.2"
  }
 },
 "nbformat": 4,
 "nbformat_minor": 2
}
